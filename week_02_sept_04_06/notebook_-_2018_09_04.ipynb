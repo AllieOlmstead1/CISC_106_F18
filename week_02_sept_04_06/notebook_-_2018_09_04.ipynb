{
 "cells": [
  {
   "cell_type": "markdown",
   "metadata": {},
   "source": [
    "# Class notebook, September 4, 2018\n",
    "\n",
    "[![Binder](https://mybinder.org/badge.svg)](https://mybinder.org/v2/gh/enactdev/CISC_106_F18/master?filepath=week_02_sept_04_06/notebook_-_2018_09_04.ipynb)\n",
    "\n",
    "\n",
    "**There was a question about the round() function last Thursday about whether passing a negative 1 will round the tens place (reminder, passing a positive 1 will round to the tenths place). I should have tested it in class, because it does:**"
   ]
  },
  {
   "cell_type": "code",
   "execution_count": 1,
   "metadata": {},
   "outputs": [
    {
     "name": "stdout",
     "output_type": "stream",
     "text": [
      "3.1\n",
      "260\n"
     ]
    }
   ],
   "source": [
    "print(round(3.14, 1))\n",
    "print(round(256, -1))"
   ]
  },
  {
   "cell_type": "markdown",
   "metadata": {},
   "source": [
    "**Python has lots of shortcuts like this. Does anyone have a theory as to why this works?**\n",
    "\n",
    "### Review indexing and how to programatically get the last element of any list"
   ]
  },
  {
   "cell_type": "code",
   "execution_count": 2,
   "metadata": {},
   "outputs": [
    {
     "name": "stdout",
     "output_type": "stream",
     "text": [
      "a\n",
      "e\n"
     ]
    }
   ],
   "source": [
    "# Indexing review\n",
    "my_list = ('a', 'b', 'c', 'd', 'e')\n",
    "\n",
    "# Print the first element\n",
    "print(my_list[0])\n",
    "\n",
    "# Print the last element\n",
    "print(my_list[4])\n"
   ]
  },
  {
   "cell_type": "code",
   "execution_count": 4,
   "metadata": {},
   "outputs": [
    {
     "name": "stdout",
     "output_type": "stream",
     "text": [
      "e\n",
      "e\n"
     ]
    }
   ],
   "source": [
    "# Get the last element regardless of the lengh of the list\n",
    "# Note: You can write code that is executed within the brackets\n",
    "\n",
    "print(my_list[len(my_list)-1])\n",
    "\n",
    "# Shortcut to the last element in the list\n",
    "print(my_list[-1])\n"
   ]
  },
  {
   "cell_type": "markdown",
   "metadata": {},
   "source": [
    "---\n",
    "\n",
    "**In class I said that Python will not append extra zeros for a decimal, regardless of what you pass to round. The one exception is the zero in the tenths place, which is displayed as a visual confirmation that you are dealing with a float.**"
   ]
  },
  {
   "cell_type": "code",
   "execution_count": 5,
   "metadata": {},
   "outputs": [
    {
     "name": "stdout",
     "output_type": "stream",
     "text": [
      "1.333\n",
      "3.0\n"
     ]
    }
   ],
   "source": [
    "print(round(1.33333333333, 3))\n",
    "print(round(float(3), 3))"
   ]
  },
  {
   "cell_type": "markdown",
   "metadata": {},
   "source": [
    "**Note the use of the float()!**\n",
    "\n",
    "**You can also pass '3.0' instead of 'float(3)'**"
   ]
  },
  {
   "cell_type": "code",
   "execution_count": 6,
   "metadata": {},
   "outputs": [
    {
     "name": "stdout",
     "output_type": "stream",
     "text": [
      "<class 'int'>\n",
      "<class 'float'>\n",
      "<class 'float'>\n",
      "True\n"
     ]
    }
   ],
   "source": [
    "print(type(round(3, 1)))\n",
    "print(type(round(3.0, 1)))\n",
    "print(type(round(float(3), 1)))\n",
    "print(3.0 == float(3))"
   ]
  },
  {
   "cell_type": "markdown",
   "metadata": {},
   "source": [
    "---\n",
    "\n",
    "### Scope\n",
    "\n",
    "**The easiest way to handle scope is to write functions that only use the parameters you pass. If you do not access outside variables, you will not have an issue with scope. Also, use different names within the function. This will make it clear that they are different variables. Following this advice will get you through the first test.**\n",
    "\n"
   ]
  },
  {
   "cell_type": "code",
   "execution_count": 7,
   "metadata": {},
   "outputs": [
    {
     "name": "stdout",
     "output_type": "stream",
     "text": [
      "This works in Python. But not all languages!\n"
     ]
    }
   ],
   "source": [
    "\"\"\"\n",
    "Do not initilize variables within a control statement. It is bad form.\n",
    "\"\"\"\n",
    "if True:\n",
    "    my_var = 'This works in Python. But not all languages!'\n",
    "    \n",
    "print(my_var)"
   ]
  },
  {
   "cell_type": "markdown",
   "metadata": {},
   "source": [
    "**A note on top of my note from the reading. As I mentioned, you do not need to worry about how Python is different from other languages because as of right now you are only being tested on Python. But whenever possible I will stear you towared good programming practices that will hopefully save you from headaches when learning a new language. Such as Matlab. Does the above work in Matlab? I do not know. That is not the point. It is bad form. Don't initilize variables within a control statements**\n",
    "\n",
    "---\n",
    "\n",
    "**You can, however, initialize a variable before a control statement, update it in the control statement, and then access it after the control statement. This is very common across programming languages**\n"
   ]
  },
  {
   "cell_type": "code",
   "execution_count": 8,
   "metadata": {},
   "outputs": [
    {
     "name": "stdout",
     "output_type": "stream",
     "text": [
      "55\n"
     ]
    }
   ],
   "source": [
    "sum = 0\n",
    "for i in range(11):\n",
    "    sum += i\n",
    "print(sum)"
   ]
  },
  {
   "cell_type": "markdown",
   "metadata": {},
   "source": [
    "**Examples from the book show variables being used in functions. So why doesn't this work?**\n",
    "\n",
    "**\\#14 from [16 Common Python Runtime Errors Beginners Find](https://inventwithpython.com/blog/2012/07/09/16-common-python-runtime-errors-beginners-find/)**"
   ]
  },
  {
   "cell_type": "code",
   "execution_count": 9,
   "metadata": {
    "scrolled": true
   },
   "outputs": [
    {
     "ename": "UnboundLocalError",
     "evalue": "local variable 'someVar' referenced before assignment",
     "output_type": "error",
     "traceback": [
      "\u001b[0;31m---------------------------------------------------------------------------\u001b[0m",
      "\u001b[0;31mUnboundLocalError\u001b[0m                         Traceback (most recent call last)",
      "\u001b[0;32m<ipython-input-9-e86d99f00549>\u001b[0m in \u001b[0;36m<module>\u001b[0;34m()\u001b[0m\n\u001b[1;32m      5\u001b[0m     \u001b[0msomeVar\u001b[0m \u001b[0;34m=\u001b[0m \u001b[0;36m100\u001b[0m\u001b[0;34m\u001b[0m\u001b[0m\n\u001b[1;32m      6\u001b[0m \u001b[0;34m\u001b[0m\u001b[0m\n\u001b[0;32m----> 7\u001b[0;31m \u001b[0mmyFunction\u001b[0m\u001b[0;34m(\u001b[0m\u001b[0;34m)\u001b[0m\u001b[0;34m\u001b[0m\u001b[0m\n\u001b[0m\u001b[1;32m      8\u001b[0m \u001b[0;34m\u001b[0m\u001b[0m\n\u001b[1;32m      9\u001b[0m \u001b[0;31m# This is added by me\u001b[0m\u001b[0;34m\u001b[0m\u001b[0;34m\u001b[0m\u001b[0m\n",
      "\u001b[0;32m<ipython-input-9-e86d99f00549>\u001b[0m in \u001b[0;36mmyFunction\u001b[0;34m()\u001b[0m\n\u001b[1;32m      2\u001b[0m \u001b[0;34m\u001b[0m\u001b[0m\n\u001b[1;32m      3\u001b[0m \u001b[0;32mdef\u001b[0m \u001b[0mmyFunction\u001b[0m\u001b[0;34m(\u001b[0m\u001b[0;34m)\u001b[0m\u001b[0;34m:\u001b[0m\u001b[0;34m\u001b[0m\u001b[0m\n\u001b[0;32m----> 4\u001b[0;31m     \u001b[0mprint\u001b[0m\u001b[0;34m(\u001b[0m\u001b[0msomeVar\u001b[0m\u001b[0;34m)\u001b[0m\u001b[0;34m\u001b[0m\u001b[0m\n\u001b[0m\u001b[1;32m      5\u001b[0m     \u001b[0msomeVar\u001b[0m \u001b[0;34m=\u001b[0m \u001b[0;36m100\u001b[0m\u001b[0;34m\u001b[0m\u001b[0m\n\u001b[1;32m      6\u001b[0m \u001b[0;34m\u001b[0m\u001b[0m\n",
      "\u001b[0;31mUnboundLocalError\u001b[0m: local variable 'someVar' referenced before assignment"
     ]
    }
   ],
   "source": [
    "someVar = 42\n",
    "\n",
    "def myFunction():\n",
    "    print(someVar)\n",
    "    someVar = 100\n",
    "\n",
    "myFunction()\n",
    "\n",
    "# This is added by me\n",
    "print(someVar)"
   ]
  },
  {
   "cell_type": "markdown",
   "metadata": {},
   "source": [
    "**Variables in functions that share the same name as a variable outside of the function can be either local or global. (Thus use a different name when you want local variables!) Variables can not be both. If you do not print in the function, then it works:**"
   ]
  },
  {
   "cell_type": "code",
   "execution_count": 10,
   "metadata": {},
   "outputs": [
    {
     "name": "stdout",
     "output_type": "stream",
     "text": [
      "42\n"
     ]
    }
   ],
   "source": [
    "someVar = 42\n",
    "\n",
    "def myFunction():\n",
    "    #print(someVar)\n",
    "    someVar = 100\n",
    "\n",
    "myFunction()\n",
    "\n",
    "# This is added by me\n",
    "print(someVar)"
   ]
  },
  {
   "cell_type": "markdown",
   "metadata": {},
   "source": [
    "**Also, if you do not change the value in the function then it will work**"
   ]
  },
  {
   "cell_type": "code",
   "execution_count": 11,
   "metadata": {},
   "outputs": [
    {
     "name": "stdout",
     "output_type": "stream",
     "text": [
      "42\n",
      "42\n"
     ]
    }
   ],
   "source": [
    "someVar = 42\n",
    "\n",
    "def myFunction():\n",
    "    print(someVar)\n",
    "    #someVar = 100\n",
    "\n",
    "myFunction()\n",
    "\n",
    "# This is added by me\n",
    "print(someVar)"
   ]
  },
  {
   "cell_type": "markdown",
   "metadata": {},
   "source": [
    "**Finally, if you change the order in the function, so it assigns before printing then it works.**"
   ]
  },
  {
   "cell_type": "code",
   "execution_count": 12,
   "metadata": {
    "scrolled": true
   },
   "outputs": [
    {
     "name": "stdout",
     "output_type": "stream",
     "text": [
      "100\n",
      "42\n"
     ]
    }
   ],
   "source": [
    "someVar = 42\n",
    "\n",
    "def myFunction():\n",
    "    someVar = 100\n",
    "    print(someVar)\n",
    "\n",
    "myFunction()\n",
    "\n",
    "# This is added by me\n",
    "print(someVar)"
   ]
  },
  {
   "cell_type": "markdown",
   "metadata": {},
   "source": [
    "**But please just follow my advice on scope. It will save you a lot of frustration.**"
   ]
  },
  {
   "cell_type": "markdown",
   "metadata": {},
   "source": [
    "---\n",
    "### String Math\n",
    "\n",
    "**We've \"added\" strings together to combine them:**"
   ]
  },
  {
   "cell_type": "code",
   "execution_count": 13,
   "metadata": {},
   "outputs": [
    {
     "name": "stdout",
     "output_type": "stream",
     "text": [
      "You can join strings together with the plus sign.\n"
     ]
    }
   ],
   "source": [
    "print('You can join strings together '+'with the plus sign.')"
   ]
  },
  {
   "cell_type": "markdown",
   "metadata": {},
   "source": [
    "**You can also multiply a string by a number. What do you think this is:**"
   ]
  },
  {
   "cell_type": "code",
   "execution_count": 14,
   "metadata": {},
   "outputs": [
    {
     "name": "stdout",
     "output_type": "stream",
     "text": [
      "55555\n"
     ]
    }
   ],
   "source": [
    "print(5 * '5')"
   ]
  },
  {
   "cell_type": "markdown",
   "metadata": {},
   "source": [
    "### Intro to special characters \\n and \\t and how to create strings that span multiple lines\n",
    "\n",
    "**\\n is the newline character, and \\t is a tab**"
   ]
  },
  {
   "cell_type": "code",
   "execution_count": 15,
   "metadata": {},
   "outputs": [
    {
     "name": "stdout",
     "output_type": "stream",
     "text": [
      "This is spread \n",
      "out over three \n",
      "lines\n",
      "\tTabs obviously indent.\n"
     ]
    }
   ],
   "source": [
    "print('This is spread \\nout over three \\nlines')\n",
    "print('\\tTabs obviously indent.')"
   ]
  },
  {
   "cell_type": "code",
   "execution_count": 16,
   "metadata": {},
   "outputs": [
    {
     "data": {
      "text/plain": [
       "'This is another way \\nto create a string variable\\nthat spans multiple lines of text.'"
      ]
     },
     "execution_count": 16,
     "metadata": {},
     "output_type": "execute_result"
    }
   ],
   "source": [
    "\"\"\"\n",
    "Reminder, you can create multi-line comments using three quotation marks to start and end the comment.\n",
    "\n",
    "You can also create string variables that span multiple lines the same way\n",
    "\"\"\"\n",
    "multi_line_string = \"\"\"This is another way \n",
    "to create a string variable\n",
    "that spans multiple lines of text.\"\"\"\n",
    "\n",
    "# The value of `multi_line_string` still includes \\n\n",
    "multi_line_string"
   ]
  },
  {
   "cell_type": "code",
   "execution_count": 17,
   "metadata": {},
   "outputs": [
    {
     "name": "stdout",
     "output_type": "stream",
     "text": [
      "This is another way \n",
      "to create a string variable\n",
      "that spans multiple lines of text.\n"
     ]
    }
   ],
   "source": [
    "# Call print() to render it nicely\n",
    "print(multi_line_string)"
   ]
  },
  {
   "cell_type": "markdown",
   "metadata": {},
   "source": [
    "---\n",
    "\n",
    "**On last week's lab I asked:**\n",
    "\n",
    "**Add parenthesis to this expression while maintaining the same order-of-operations:**\n",
    "\n",
    "5 \\* 6 + 7 \\* 8 + 2\n",
    "\n",
    "**One of the responses just put parenthesis around the entire thing:**\n"
   ]
  },
  {
   "cell_type": "code",
   "execution_count": 18,
   "metadata": {},
   "outputs": [
    {
     "data": {
      "text/plain": [
       "88"
      ]
     },
     "execution_count": 18,
     "metadata": {},
     "output_type": "execute_result"
    }
   ],
   "source": [
    "(5 * 6 + 7 * 8 + 2)"
   ]
  },
  {
   "cell_type": "markdown",
   "metadata": {},
   "source": [
    "**This is technically correct, which means I gave it full credit. Parenthesis were added, and the order of execution is the same. But this is not what I was looking for. A similar question will be on the first test, and in the test question I will clarify that I want you to make it more readable. This answer is not more readable, and would not receive credit on the test.**\n",
    "\n",
    "---\n",
    "\n",
    "### While Loops\n",
    "\n",
    "**A while loop is similar to an if statement in that the code is only run if the condition is true. So it is possible the code never runs, if the condition fails. **\n",
    "\n",
    "**The difference is the whole loop will continue to run that code until the condition is no longer true. An if statement will run at most one time. It is up to you to define the maximum number of times a while loops runs. An infinite loop is a common mistake.**\n",
    "\n",
    "**While loops generally follow the following recipe with comments added to code copied from [Automate the Boring Stuff with Python](https://automatetheboringstuff.com/):**\n",
    "\n",
    "```\n",
    "# Initialize a variable\n",
    "spam = 0\n",
    "\n",
    "# Use that variable in the conditional statement\n",
    "while spam < 5:\n",
    "\n",
    "    # Block of code that only runs if the condidional statement is True\n",
    "    print('Hello, world.')\n",
    "    \n",
    "    # Update the variable used in conditional statement!\n",
    "    spam = spam + 1\n",
    "```\n",
    "\n",
    "**Let's write a while loop together**"
   ]
  },
  {
   "cell_type": "code",
   "execution_count": 24,
   "metadata": {},
   "outputs": [
    {
     "name": "stdout",
     "output_type": "stream",
     "text": [
      "Enter an integer:5\n",
      "5 1\n",
      "4 5\n",
      "3 20\n",
      "2 60\n",
      "1 120\n",
      "120\n"
     ]
    }
   ],
   "source": [
    "\"\"\"\n",
    "This function takes a number n and computes the factorial of n, which is n * n-1 * n-2 * .... * 1\n",
    "\n",
    "Example: factorial(5) == 5*4*3*2*1 == 120\n",
    "\"\"\"\n",
    "def factorial(n):\n",
    "    # This is the result we will return\n",
    "    # Initialize to 1 when multiplying and 0 when adding (such as sum). Hopefully that makes sense.\n",
    "    factorial_result = 1\n",
    "    \n",
    "    # Do we need to initialze a variable for the while loop?\n",
    "    \n",
    "    while n >= 1:\n",
    "        \n",
    "        print(n, factorial_result)\n",
    "        \n",
    "        factorial_result = factorial_result * n\n",
    "        \n",
    "        n = n - 1\n",
    "    \n",
    "    return factorial_result\n",
    "\n",
    "\n",
    "test_int = input('Enter an integer:')\n",
    "    \n",
    "print(factorial(int(test_int)))\n",
    "\n",
    "#print(5*4*3*2*1==factorial(5))\n"
   ]
  },
  {
   "cell_type": "markdown",
   "metadata": {},
   "source": [
    "---\n",
    "\n",
    "### Introduction to the `import` statement and urlparse from the urllib library\n",
    "\n",
    "**Part of Thursday's ungraded homework is to reference the urlparse documentation. Don't worry, not all the documentation. Use the direct link from Canvas.**"
   ]
  },
  {
   "cell_type": "code",
   "execution_count": 25,
   "metadata": {},
   "outputs": [
    {
     "name": "stdout",
     "output_type": "stream",
     "text": [
      "Help on function urlparse in module urllib.parse:\n",
      "\n",
      "urlparse(url, scheme='', allow_fragments=True)\n",
      "    Parse a URL into 6 components:\n",
      "    <scheme>://<netloc>/<path>;<params>?<query>#<fragment>\n",
      "    Return a 6-tuple: (scheme, netloc, path, params, query, fragment).\n",
      "    Note that we don't break the components up in smaller bits\n",
      "    (e.g. netloc is a single string) and we don't expand % escapes.\n",
      "\n"
     ]
    }
   ],
   "source": [
    "from urllib.parse import urlparse, parse_qs\n",
    "\n",
    "help(urlparse)"
   ]
  },
  {
   "cell_type": "markdown",
   "metadata": {},
   "source": [
    "**When looking for additional materials to use in this class, I ran a Google search for 'free online python3 books,' which generated this url: https://www.google.com/search?client=ubuntu&channel=fs&q=free+online+python3+books&ie=utf-8&oe=utf-8**\n",
    "\n",
    "**Let's explore it in urlparse**"
   ]
  },
  {
   "cell_type": "code",
   "execution_count": 26,
   "metadata": {},
   "outputs": [
    {
     "name": "stdout",
     "output_type": "stream",
     "text": [
      "ParseResult(scheme='https', netloc='www.google.com', path='/search', params='', query='client=ubuntu&channel=fs&q=free+online+python3+books&ie=utf-8&oe=utf-8', fragment='')\n"
     ]
    }
   ],
   "source": [
    "search_url = 'https://www.google.com/search?client=ubuntu&channel=fs&q=free+online+python3+books&ie=utf-8&oe=utf-8'\n",
    "search_url_components = urlparse(search_url)\n",
    "print(search_url_components)"
   ]
  },
  {
   "cell_type": "code",
   "execution_count": 27,
   "metadata": {},
   "outputs": [
    {
     "name": "stdout",
     "output_type": "stream",
     "text": [
      "Help on function parse_qs in module urllib.parse:\n",
      "\n",
      "parse_qs(qs, keep_blank_values=False, strict_parsing=False, encoding='utf-8', errors='replace')\n",
      "    Parse a query given as a string argument.\n",
      "    \n",
      "    Arguments:\n",
      "    \n",
      "    qs: percent-encoded query string to be parsed\n",
      "    \n",
      "    keep_blank_values: flag indicating whether blank values in\n",
      "        percent-encoded queries should be treated as blank strings.\n",
      "        A true value indicates that blanks should be retained as\n",
      "        blank strings.  The default false value indicates that\n",
      "        blank values are to be ignored and treated as if they were\n",
      "        not included.\n",
      "    \n",
      "    strict_parsing: flag indicating what to do with parsing errors.\n",
      "        If false (the default), errors are silently ignored.\n",
      "        If true, errors raise a ValueError exception.\n",
      "    \n",
      "    encoding and errors: specify how to decode percent-encoded sequences\n",
      "        into Unicode characters, as accepted by the bytes.decode() method.\n",
      "    \n",
      "    Returns a dictionary.\n",
      "\n"
     ]
    }
   ],
   "source": [
    "# An important part of web development is being able to understand parameters passed through the URL.\n",
    "help(parse_qs)"
   ]
  },
  {
   "cell_type": "code",
   "execution_count": 28,
   "metadata": {},
   "outputs": [
    {
     "data": {
      "text/plain": [
       "{'channel': ['fs'],\n",
       " 'client': ['ubuntu'],\n",
       " 'ie': ['utf-8'],\n",
       " 'oe': ['utf-8'],\n",
       " 'q': ['free online python3 books']}"
      ]
     },
     "execution_count": 28,
     "metadata": {},
     "output_type": "execute_result"
    }
   ],
   "source": [
    "parse_qs(search_url_components.query)"
   ]
  },
  {
   "cell_type": "markdown",
   "metadata": {},
   "source": [
    "**You will continue using urllib.parse in this weeks ungraded homework**"
   ]
  },
  {
   "cell_type": "markdown",
   "metadata": {},
   "source": [
    "---\n",
    "\n",
    "### Hackerrank example: Capitalize!\n",
    "\n",
    "**This is linked to from the class reading for Aug. 30. I'm not going to link to it here because I'm pretty sure posting solutions is against Hackerrank Terms of Service. So, refer to the link from there.**\n",
    "\n",
    "**This is 5/6 easy, in that this solution solves 5 out of 6 test cases**\n",
    "\n",
    "```\n",
    "def solve(s):\n",
    "    return s.title()\n",
    "```\n",
    "**A lot of Hackerrank examples falls into this kind of trap, where you can quickly get a partial solution. Sometimes the partial solution is due special cases, and this falls into that category. Another trap is efficiency. Hackerrank does only gives you very limited resources, and if your code runs out of memory (too many variables or ones that are too large), or if it takes too many steps to execute (too many clock cycles), then it will fail.**\n",
    "\n",
    "**The key to the full solution is in the description:**\n",
    "\n",
    "> **Note**: in a word only the first character is capitalized. Example 12abc when capitalized remains 12abc.\n",
    "\n",
    "**So, let's test**"
   ]
  },
  {
   "cell_type": "code",
   "execution_count": 29,
   "metadata": {},
   "outputs": [
    {
     "name": "stdout",
     "output_type": "stream",
     "text": [
      "12Abc\n"
     ]
    }
   ],
   "source": [
    "print('12abc'.title())\n"
   ]
  },
  {
   "cell_type": "code",
   "execution_count": 34,
   "metadata": {},
   "outputs": [
    {
     "name": "stdout",
     "output_type": "stream",
     "text": [
      "Professor Williams\n",
      "12abc\n"
     ]
    }
   ],
   "source": [
    "\"\"\"\n",
    "This function takes a string s and returns a capitalized string, where onl the first letter of any word in\n",
    "s is capitalized. \n",
    "\n",
    "proper_capitalization('chris') returns 'Chris'\n",
    "proper_capitalization('12abc') returns '12abc'\n",
    "\"\"\"\n",
    "def proper_capitalization(s):\n",
    "    \n",
    "    s = s.lower()\n",
    "    \n",
    "    return_string = ''\n",
    "    \n",
    "    for i in range(len(s)):\n",
    "        #print(s[i])\n",
    "        # Under what condition(s) will we capitalize a letter?\n",
    "        if i == 0 or s[i-1] == ' ':\n",
    "            return_string += s[i].upper()\n",
    "        else:\n",
    "            return_string += s[i]\n",
    "    return return_string\n",
    "\n",
    "print(proper_capitalization('pRofessor williams'))\n",
    "print(proper_capitalization('12abc'))"
   ]
  },
  {
   "cell_type": "code",
   "execution_count": 35,
   "metadata": {},
   "outputs": [
    {
     "name": "stdout",
     "output_type": "stream",
     "text": [
      "Professor Williams\n",
      "12abc\n"
     ]
    }
   ],
   "source": [
    "# Example with a comprehension.\n",
    "# This is harder than anything you will see in a quiz, test, or project\n",
    "# join() is a new (to this class) method\n",
    "def proper_capitalization(s):\n",
    "    return ''.join([s[i].upper() if i == 0 or s[i-1] == ' ' else s[i] for i in range(len(s))])\n",
    "    \n",
    "print(proper_capitalization('professor williams'))\n",
    "print(proper_capitalization('12abc'))"
   ]
  },
  {
   "cell_type": "code",
   "execution_count": null,
   "metadata": {},
   "outputs": [],
   "source": [
    "\n",
    "\n",
    "\n",
    "\n",
    "\n",
    "\n",
    "\n",
    "\n",
    "\n",
    "\n",
    "\n",
    "\n",
    "\n",
    "\n",
    "\n",
    "\n",
    "\n",
    "\n",
    "\n",
    "\n",
    "\n",
    "\n",
    "\n",
    "\n",
    "\n",
    "\n",
    "\n",
    "\n",
    "\n"
   ]
  }
 ],
 "metadata": {
  "kernelspec": {
   "display_name": "Python 3",
   "language": "python",
   "name": "python3"
  },
  "language_info": {
   "codemirror_mode": {
    "name": "ipython",
    "version": 3
   },
   "file_extension": ".py",
   "mimetype": "text/x-python",
   "name": "python",
   "nbconvert_exporter": "python",
   "pygments_lexer": "ipython3",
   "version": "3.6.5"
  }
 },
 "nbformat": 4,
 "nbformat_minor": 2
}
