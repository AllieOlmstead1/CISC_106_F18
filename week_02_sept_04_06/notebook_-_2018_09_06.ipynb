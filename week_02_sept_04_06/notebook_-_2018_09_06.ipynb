{
 "cells": [
  {
   "cell_type": "markdown",
   "metadata": {},
   "source": [
    "# Class notebook, September 6, 2018\n",
    "\n",
    "[![Binder](https://mybinder.org/badge.svg)](https://mybinder.org/v2/gh/enactdev/CISC_106_F18/master?filepath=week_02_sept_04_06/notebook_-_2018_09_06.ipynb)\n",
    "\n",
    "### Google Analytics Campaign URL Builder\n",
    "\n",
    "The ungraded homework was to write a function that uses [urlencode](https://docs.python.org/3/library/urllib.parse.html#urllib.parse.urlencode) to generate a URL for a Google Analytics campaign. [Read about the parameters you can use in a campaign here](https://support.google.com/analytics/answer/1033863#parameters). You can see what your function should return by [using this URL builder](https://ga-dev-tools.appspot.com/campaign-url-builder/).\n",
    "\n",
    "This is an example from the Axios Newsletter:\n",
    "\n",
    "https://apnews.com/6b6ae60f8aef410ba2cf784216efd260?utm_source=newsletter&utm_medium=email&utm_campaign=newsletter_axiosam&stream=top\n",
    "\n",
    "We will add campaign information to the article about Dorothy's shoes.\n",
    "\n",
    "https://www.nytimes.com/2018/09/04/us/dorothys-ruby-slippers-stolen.html\n"
   ]
  },
  {
   "cell_type": "code",
   "execution_count": 1,
   "metadata": {},
   "outputs": [
    {
     "data": {
      "text/plain": [
       "'https://www.nytimes.com/2018/09/04/us/dorothys-ruby-slippers-stolen.html?utm_source=summer mailer&utm_medium=email&utm_campaign=summer-sale'"
      ]
     },
     "execution_count": 1,
     "metadata": {},
     "output_type": "execute_result"
    }
   ],
   "source": [
    "from urllib.parse import urlencode\n",
    "\n",
    "\"\"\"\n",
    "This function takes a url and three campaign parameters:\n",
    "  utm_source, utm_medium, utm_campaign\n",
    "\n",
    "Returns a url in embed in our newsletter to track the campaign.\n",
    "\n",
    "\"\"\"\n",
    "def url_builder(url, utm_source, utm_medium, utm_campaign):\n",
    "    completed_url = url+'?'\n",
    "    completed_url += 'utm_source='+utm_source\n",
    "    completed_url += '&utm_medium='+utm_medium\n",
    "    completed_url += '&utm_campaign='+utm_campaign\n",
    "    \n",
    "    return completed_url\n",
    "\n",
    "url_builder('https://www.nytimes.com/2018/09/04/us/dorothys-ruby-slippers-stolen.html', \n",
    "            'summer mailer', 'email', 'summer-sale')"
   ]
  },
  {
   "cell_type": "markdown",
   "metadata": {},
   "source": [
    "### More about lists\n",
    "\n",
    "**Recall the range() function. If you just pass it a number, you can iterate from 0 to number-1. This is from help(range):**\n",
    "\n",
    "> range(stop) -> range object\n",
    "\n",
    "**Let's assign range(10) to a list**"
   ]
  },
  {
   "cell_type": "code",
   "execution_count": 2,
   "metadata": {},
   "outputs": [
    {
     "data": {
      "text/plain": [
       "[0, 1, 2, 3, 4, 5, 6, 7, 8, 9]"
      ]
     },
     "execution_count": 2,
     "metadata": {},
     "output_type": "execute_result"
    }
   ],
   "source": [
    "my_list = list(range(10))\n",
    "\n",
    "my_list"
   ]
  },
  {
   "cell_type": "markdown",
   "metadata": {},
   "source": [
    "**Now recall that you can also pass two or three parameters to range. They are:**\n",
    "\n",
    "> range(start, stop[, step]) -> range object\n",
    "\n",
    "**What do you think will happen if we pass:**\n",
    "\n",
    "```\n",
    "range(1,9)\n",
    "```\n",
    "\n",
    "**Note: step defaults to 1**"
   ]
  },
  {
   "cell_type": "code",
   "execution_count": 3,
   "metadata": {
    "scrolled": true
   },
   "outputs": [
    {
     "name": "stdout",
     "output_type": "stream",
     "text": [
      "[1, 3, 5, 7]\n"
     ]
    }
   ],
   "source": [
    "print(list(range(1, 9, 2)))\n"
   ]
  },
  {
   "cell_type": "markdown",
   "metadata": {},
   "source": [
    "#### List Slicing\n",
    "**Lists have a feature called slicing, that works similarly to range(start, stop)**"
   ]
  },
  {
   "cell_type": "code",
   "execution_count": 4,
   "metadata": {},
   "outputs": [
    {
     "data": {
      "text/plain": [
       "[1, 3, 5, 7]"
      ]
     },
     "execution_count": 4,
     "metadata": {},
     "output_type": "execute_result"
    }
   ],
   "source": [
    "my_list[1:9:2]"
   ]
  },
  {
   "cell_type": "markdown",
   "metadata": {},
   "source": [
    "#### List append() and insert()\n",
    "**You an also append and insert. Where do you think append() will go? How about insert?**"
   ]
  },
  {
   "cell_type": "code",
   "execution_count": 5,
   "metadata": {},
   "outputs": [
    {
     "data": {
      "text/plain": [
       "[0, 1, 2, 3, 4, 5, 6, 7, 8, 9, 10]"
      ]
     },
     "execution_count": 5,
     "metadata": {},
     "output_type": "execute_result"
    }
   ],
   "source": [
    "my_list.append(10)\n",
    "my_list"
   ]
  },
  {
   "cell_type": "code",
   "execution_count": 7,
   "metadata": {},
   "outputs": [
    {
     "name": "stdout",
     "output_type": "stream",
     "text": [
      "Help on built-in function insert:\n",
      "\n",
      "insert(...) method of builtins.list instance\n",
      "    L.insert(index, object) -- insert object before index\n",
      "\n"
     ]
    }
   ],
   "source": [
    "help(my_list.insert)"
   ]
  },
  {
   "cell_type": "code",
   "execution_count": 10,
   "metadata": {
    "scrolled": false
   },
   "outputs": [
    {
     "data": {
      "text/plain": [
       "[-1, -1, 0, 0.5, 1, 2, 3, 4, 5, 6, 7, 8, 9, 10]"
      ]
     },
     "execution_count": 10,
     "metadata": {},
     "output_type": "execute_result"
    }
   ],
   "source": [
    "my_list.insert(0, -1)\n",
    "my_list"
   ]
  },
  {
   "cell_type": "code",
   "execution_count": 9,
   "metadata": {},
   "outputs": [
    {
     "data": {
      "text/plain": [
       "[-1, 0, 0.5, 1, 2, 3, 4, 5, 6, 7, 8, 9, 10]"
      ]
     },
     "execution_count": 9,
     "metadata": {},
     "output_type": "execute_result"
    }
   ],
   "source": [
    "my_list.insert(2, float(.5))\n",
    "my_list"
   ]
  },
  {
   "cell_type": "code",
   "execution_count": null,
   "metadata": {},
   "outputs": [],
   "source": [
    "#### Test if a string is a palindrome\n",
    "def is_palindrome(a_string):\n",
    "    \n",
    "    forward_list = l"
   ]
  }
 ],
 "metadata": {
  "kernelspec": {
   "display_name": "Python 3",
   "language": "python",
   "name": "python3"
  },
  "language_info": {
   "codemirror_mode": {
    "name": "ipython",
    "version": 3
   },
   "file_extension": ".py",
   "mimetype": "text/x-python",
   "name": "python",
   "nbconvert_exporter": "python",
   "pygments_lexer": "ipython3",
   "version": "3.6.5"
  }
 },
 "nbformat": 4,
 "nbformat_minor": 2
}
