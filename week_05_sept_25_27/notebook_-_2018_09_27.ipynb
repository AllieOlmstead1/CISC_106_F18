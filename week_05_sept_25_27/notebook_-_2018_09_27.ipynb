{
 "cells": [
  {
   "cell_type": "markdown",
   "metadata": {},
   "source": [
    "# Notebook from September 27, 2018\n",
    "\n",
    "[![Binder](https://mybinder.org/badge.svg)](https://mybinder.org/v2/gh/enactdev/CISC_106_F18/master?filepath=week_05_sept_25_27/notebook_-_2018_09_27.ipynb)\n",
    "\n",
    "**Reference the [starter code examples](https://github.com/enactdev/CISC_106_F18/blob/master/starter_code.ipynb) on while loops**\n",
    "\n",
    "**Quick lesson on the None type**"
   ]
  },
  {
   "cell_type": "code",
   "execution_count": 7,
   "metadata": {
    "scrolled": true
   },
   "outputs": [
    {
     "data": {
      "text/plain": [
       "NoneType"
      ]
     },
     "execution_count": 7,
     "metadata": {},
     "output_type": "execute_result"
    }
   ],
   "source": [
    "type(None)"
   ]
  },
  {
   "cell_type": "markdown",
   "metadata": {},
   "source": [
    "**Functions that do not explicitly return something return the None type.**"
   ]
  },
  {
   "cell_type": "code",
   "execution_count": 8,
   "metadata": {},
   "outputs": [
    {
     "name": "stdout",
     "output_type": "stream",
     "text": [
      "None\n"
     ]
    }
   ],
   "source": [
    "def return_nothing():\n",
    "    1 + 1\n",
    "    \n",
    "print(return_nothing())"
   ]
  },
  {
   "cell_type": "markdown",
   "metadata": {},
   "source": [
    "**None evaluates to False**"
   ]
  },
  {
   "cell_type": "code",
   "execution_count": 9,
   "metadata": {},
   "outputs": [
    {
     "name": "stdout",
     "output_type": "stream",
     "text": [
      "None evaluates to False\n"
     ]
    }
   ],
   "source": [
    "if None:\n",
    "    print('None evaluates to Trye')\n",
    "else:\n",
    "    print('None evaluates to False')"
   ]
  },
  {
   "cell_type": "markdown",
   "metadata": {},
   "source": [
    "**You need to know about None for the first test.**"
   ]
  },
  {
   "cell_type": "markdown",
   "metadata": {},
   "source": [
    "**Any string that is not empty evaluates to True**"
   ]
  },
  {
   "cell_type": "code",
   "execution_count": 10,
   "metadata": {},
   "outputs": [
    {
     "name": "stdout",
     "output_type": "stream",
     "text": [
      "True\n"
     ]
    }
   ],
   "source": [
    "print(bool('0'))"
   ]
  },
  {
   "cell_type": "code",
   "execution_count": 12,
   "metadata": {},
   "outputs": [
    {
     "data": {
      "text/plain": [
       "6"
      ]
     },
     "execution_count": 12,
     "metadata": {},
     "output_type": "execute_result"
    }
   ],
   "source": [
    "# Sum is a function that takes a list. Do not use is as a variable name\n",
    "sum([1, 2, 3])\n"
   ]
  },
  {
   "cell_type": "markdown",
   "metadata": {},
   "source": [
    "---\n",
    "\n",
    "### Use a while loop to print the number 0-4, one on each line. \n",
    "\n",
    "**Comments from the while loop starter code have been provided.**\n"
   ]
  },
  {
   "cell_type": "code",
   "execution_count": 13,
   "metadata": {},
   "outputs": [
    {
     "name": "stdout",
     "output_type": "stream",
     "text": [
      "0\n",
      "1\n",
      "2\n",
      "3\n",
      "4\n"
     ]
    }
   ],
   "source": [
    "# Initialize a variable (or use a variable passed into a function)\n",
    "n = 0\n",
    "# Use that variable in the conditional statement\n",
    "while n < 5:\n",
    "\n",
    "    # The \"block\" of code is everthing that is indented here\n",
    "    print(n)\n",
    "\n",
    "    # Update the variable used in conditional statement!\n",
    "    n += 1\n"
   ]
  },
  {
   "cell_type": "markdown",
   "metadata": {},
   "source": [
    "**Update the above to sum all the numbers 0 through 4**"
   ]
  },
  {
   "cell_type": "code",
   "execution_count": 17,
   "metadata": {},
   "outputs": [
    {
     "name": "stdout",
     "output_type": "stream",
     "text": [
      "0 0\n",
      "1 1\n",
      "2 3\n",
      "3 6\n",
      "4 10\n",
      "Sum is: 10\n"
     ]
    }
   ],
   "source": [
    "# Initialize a variable (or use a variable passed into a function)\n",
    "n = 0\n",
    "my_sum = 0\n",
    "\n",
    "# Use that variable in the conditional statement\n",
    "while n < 5:\n",
    "\n",
    "    # The \"block\" of code is everthing that is indented here\n",
    "    my_sum += n\n",
    "    print(n, my_sum)\n",
    "\n",
    "    # Update the variable used in conditional statement!\n",
    "    n += 1\n",
    "\n",
    "print('Sum is:', my_sum)"
   ]
  },
  {
   "cell_type": "markdown",
   "metadata": {},
   "source": [
    "---\n",
    "\n",
    "### Use a while loop and the isnumeric() method to ask a user for an age until they enter an integer.\n",
    "\n",
    "**We've done this before, but something similar is in this weeks lab, so let's do it again.**"
   ]
  },
  {
   "cell_type": "code",
   "execution_count": 22,
   "metadata": {},
   "outputs": [
    {
     "name": "stdout",
     "output_type": "stream",
     "text": [
      "Enter your age: no\n",
      "That was not an integer. Enter your age: 19\n",
      "Thank you.\n"
     ]
    }
   ],
   "source": [
    "# Initialize a variable (or use a variable passed into a function)\n",
    "age = input('Enter your age: ')\n",
    "\n",
    "# Use that variable in the conditional statement\n",
    "while not age.isnumeric():\n",
    "\n",
    "    # The \"block\" of code is everthing that is indented here\n",
    "    \n",
    "\n",
    "    # Update the variable used in conditional statement!\n",
    "    age = input('That was not an integer. Enter your age: ')\n",
    "    \n",
    "# Convert age to an integer\n",
    "age = int(age)\n",
    "\n",
    "print('Thank you.')"
   ]
  }
 ],
 "metadata": {
  "kernelspec": {
   "display_name": "Python 3",
   "language": "python",
   "name": "python3"
  },
  "language_info": {
   "codemirror_mode": {
    "name": "ipython",
    "version": 3
   },
   "file_extension": ".py",
   "mimetype": "text/x-python",
   "name": "python",
   "nbconvert_exporter": "python",
   "pygments_lexer": "ipython3",
   "version": "3.6.6"
  }
 },
 "nbformat": 4,
 "nbformat_minor": 2
}
