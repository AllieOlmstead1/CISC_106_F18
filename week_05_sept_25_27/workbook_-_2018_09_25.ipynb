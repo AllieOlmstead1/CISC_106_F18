{
 "cells": [
  {
   "cell_type": "markdown",
   "metadata": {},
   "source": [
    "# In-class workbook from September 25, 2018\n",
    "\n",
    "[![Binder](https://mybinder.org/badge.svg)](https://mybinder.org/v2/gh/enactdev/CISC_106_F18/master?filepath=week_05_sept_25_27/workbook_-_2018_09_25.ipynb)\n",
    "\n",
    "\n",
    "## Lists\n",
    "\n",
    "**Create an empty list called ```my_name_list```. On the next two lines, use the append() method to append your first and then your last name.**\n"
   ]
  },
  {
   "cell_type": "code",
   "execution_count": null,
   "metadata": {},
   "outputs": [],
   "source": []
  },
  {
   "cell_type": "markdown",
   "metadata": {},
   "source": [
    "**Join your first and last name, with a space in between, and assign it to the variable ```my_name```**\n",
    "\n",
    "**Hint, use the + operator**"
   ]
  },
  {
   "cell_type": "code",
   "execution_count": null,
   "metadata": {},
   "outputs": [],
   "source": []
  },
  {
   "cell_type": "markdown",
   "metadata": {},
   "source": [
    "**Use the string method upper() to assign an uppercase version of your name to the variable ```my_name_caps```**"
   ]
  },
  {
   "cell_type": "code",
   "execution_count": null,
   "metadata": {},
   "outputs": [],
   "source": []
  },
  {
   "cell_type": "markdown",
   "metadata": {},
   "source": [
    "**Write a for loop to print your first and last names on seperate lines**"
   ]
  },
  {
   "cell_type": "code",
   "execution_count": null,
   "metadata": {},
   "outputs": [],
   "source": []
  },
  {
   "cell_type": "markdown",
   "metadata": {},
   "source": [
    "---\n",
    "\n",
    "**New problem set**"
   ]
  },
  {
   "cell_type": "code",
   "execution_count": 1,
   "metadata": {},
   "outputs": [
    {
     "data": {
      "text/plain": [
       "['a', 'b', 'c', 'd', 'e']"
      ]
     },
     "execution_count": 1,
     "metadata": {},
     "output_type": "execute_result"
    }
   ],
   "source": [
    "my_list = ['a', 'b', 'c', 'd', 'e']\n",
    "\n",
    "my_list"
   ]
  },
  {
   "cell_type": "markdown",
   "metadata": {},
   "source": [
    "**Add the next five letters of the alphablet to ```my_list``` in one line using the ```+``` operator**"
   ]
  },
  {
   "cell_type": "code",
   "execution_count": null,
   "metadata": {},
   "outputs": [],
   "source": []
  },
  {
   "cell_type": "markdown",
   "metadata": {},
   "source": [
    "**Write a for loop to capialize each letter using the string upper() method**"
   ]
  },
  {
   "cell_type": "code",
   "execution_count": null,
   "metadata": {},
   "outputs": [],
   "source": []
  },
  {
   "cell_type": "markdown",
   "metadata": {},
   "source": [
    "**Write a for loop to print both the index and the value of my_list for that index. Each line will have the index and the value. For example, the first line will be:**\n",
    "\n",
    "```\n",
    "0 A\n",
    "```"
   ]
  },
  {
   "cell_type": "code",
   "execution_count": null,
   "metadata": {},
   "outputs": [],
   "source": []
  },
  {
   "cell_type": "markdown",
   "metadata": {},
   "source": [
    "---\n",
    "\n",
    "**Use ```my_name_list``` again for this problem.**\n",
    "\n",
    "**Write a for loop that cyles through ```my_name_list``` and on each line it prints the index, the lowercase version of your name with the string lower() method, and the length of your name**\n",
    "\n",
    "**Example, if \"Professor\" is the first element of ```my_name_list```, the first line would print:***\n",
    "\n",
    "```\n",
    "0 professor 9\n",
    "```"
   ]
  },
  {
   "cell_type": "code",
   "execution_count": null,
   "metadata": {},
   "outputs": [],
   "source": []
  },
  {
   "cell_type": "markdown",
   "metadata": {},
   "source": [
    "---\n",
    "\n",
    "**Extra hard bonus problems**\n",
    "\n",
    "**Nothing this hard will be on the first test! But will be on the second test**\n",
    "\n",
    "**Covert your first name in ```my_name_list[0]``` to a new list called ```first_name_list```**"
   ]
  },
  {
   "cell_type": "code",
   "execution_count": null,
   "metadata": {},
   "outputs": [],
   "source": []
  },
  {
   "cell_type": "markdown",
   "metadata": {},
   "source": [
    "**Hint, use the list() function**\n",
    "\n",
    "**Use a for loop and the list count() method to print every letter of your first name and the count, one letter and one count per line. It's ok to print the same letter twice.**\n",
    "\n",
    "**Example, if my first name is 'Professor' then ```first_name_list``` will be:**\n",
    "\n",
    "```\n",
    "['P', 'r', 'o', 'f', 'e', 's', 's', 'o', 'r']\n",
    "```\n",
    "\n",
    "**And the first three lines printed here would be:**\n",
    "\n",
    "```\n",
    "P 1\n",
    "r r\n",
    "o 2\n",
    "```"
   ]
  },
  {
   "cell_type": "code",
   "execution_count": null,
   "metadata": {},
   "outputs": [],
   "source": []
  },
  {
   "cell_type": "markdown",
   "metadata": {},
   "source": [
    "**Final extra extra hard problem. Do the same thing as above but do not print duplicates. For example, 'Professor' would become:**\n",
    "\n",
    "```\n",
    "P 1\n",
    "r r\n",
    "o 2\n",
    "f 1\n",
    "e 1\n",
    "s 2\n",
    "```"
   ]
  },
  {
   "cell_type": "code",
   "execution_count": null,
   "metadata": {},
   "outputs": [],
   "source": []
  },
  {
   "cell_type": "code",
   "execution_count": null,
   "metadata": {},
   "outputs": [],
   "source": []
  }
 ],
 "metadata": {
  "kernelspec": {
   "display_name": "Python 3",
   "language": "python",
   "name": "python3"
  },
  "language_info": {
   "codemirror_mode": {
    "name": "ipython",
    "version": 3
   },
   "file_extension": ".py",
   "mimetype": "text/x-python",
   "name": "python",
   "nbconvert_exporter": "python",
   "pygments_lexer": "ipython3",
   "version": "3.6.6"
  }
 },
 "nbformat": 4,
 "nbformat_minor": 2
}
