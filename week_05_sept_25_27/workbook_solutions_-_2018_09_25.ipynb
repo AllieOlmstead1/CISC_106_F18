{
 "cells": [
  {
   "cell_type": "markdown",
   "metadata": {},
   "source": [
    "# In-class workbook from September 25, 2018\n",
    "\n",
    "[![Binder](https://mybinder.org/badge.svg)](https://mybinder.org/v2/gh/enactdev/CISC_106_F18/master?filepath=week_05_sept_25_27/workbook_-_2018_09_25.ipynb)\n",
    "\n",
    "\n",
    "## Lists\n",
    "\n",
    "**Create an empty list called ```my_name_list```. On the next two lines, use the append() method to append your first and then your last name.**\n"
   ]
  },
  {
   "cell_type": "code",
   "execution_count": 1,
   "metadata": {},
   "outputs": [
    {
     "data": {
      "text/plain": [
       "['Professor', 'Williams']"
      ]
     },
     "execution_count": 1,
     "metadata": {},
     "output_type": "execute_result"
    }
   ],
   "source": [
    "my_name_list = []\n",
    "\n",
    "my_name_list.append('Professor')\n",
    "my_name_list.append('Williams')\n",
    "\n",
    "my_name_list"
   ]
  },
  {
   "cell_type": "markdown",
   "metadata": {},
   "source": [
    "**Join your first and last name, with a space in between, and assign it to the variable ```my_name```**\n",
    "\n",
    "**Hint, use the + operator**"
   ]
  },
  {
   "cell_type": "code",
   "execution_count": 13,
   "metadata": {},
   "outputs": [
    {
     "data": {
      "text/plain": [
       "'Professor Williams'"
      ]
     },
     "execution_count": 13,
     "metadata": {},
     "output_type": "execute_result"
    }
   ],
   "source": [
    "my_name = my_name_list[0] + ' ' + my_name_list[1]\n",
    "my_name"
   ]
  },
  {
   "cell_type": "markdown",
   "metadata": {},
   "source": [
    "**Use the string method upper() to assign an uppercase version of your name to the variable ```my_name_caps```**"
   ]
  },
  {
   "cell_type": "code",
   "execution_count": 16,
   "metadata": {},
   "outputs": [
    {
     "data": {
      "text/plain": [
       "'PROFESSOR WILLIAMS'"
      ]
     },
     "execution_count": 16,
     "metadata": {},
     "output_type": "execute_result"
    }
   ],
   "source": [
    "my_name_caps = my_name.upper()\n",
    "\n",
    "my_name_caps"
   ]
  },
  {
   "cell_type": "markdown",
   "metadata": {},
   "source": [
    "**Write a for loop to print your first and last names on seperate lines**"
   ]
  },
  {
   "cell_type": "code",
   "execution_count": 8,
   "metadata": {},
   "outputs": [
    {
     "name": "stdout",
     "output_type": "stream",
     "text": [
      "Professor\n",
      "Williams\n"
     ]
    }
   ],
   "source": [
    "for item in my_name_list:\n",
    "    print(item)"
   ]
  },
  {
   "cell_type": "markdown",
   "metadata": {},
   "source": [
    "---\n",
    "\n",
    "**New problem set**"
   ]
  },
  {
   "cell_type": "code",
   "execution_count": 9,
   "metadata": {},
   "outputs": [
    {
     "data": {
      "text/plain": [
       "['a', 'b', 'c', 'd', 'e']"
      ]
     },
     "execution_count": 9,
     "metadata": {},
     "output_type": "execute_result"
    }
   ],
   "source": [
    "my_list = ['a', 'b', 'c', 'd', 'e']\n",
    "\n",
    "my_list"
   ]
  },
  {
   "cell_type": "markdown",
   "metadata": {},
   "source": [
    "**Add the next five letters of the alphablet to ```my_list``` in one line using the ```+``` operator**"
   ]
  },
  {
   "cell_type": "code",
   "execution_count": 22,
   "metadata": {},
   "outputs": [
    {
     "data": {
      "text/plain": [
       "['a', 'b', 'c', 'd', 'e', 'd', 'e', 'f', 'g', 'h']"
      ]
     },
     "execution_count": 22,
     "metadata": {},
     "output_type": "execute_result"
    }
   ],
   "source": [
    "my_list = ['a', 'b', 'c', 'd', 'e']\n",
    "\n",
    "my_list = my_list + ['d', 'e', 'f', 'g', 'h']\n",
    "\n",
    "my_list"
   ]
  },
  {
   "cell_type": "markdown",
   "metadata": {},
   "source": [
    "**Write a for loop to capialize each letter using the string upper() method**"
   ]
  },
  {
   "cell_type": "code",
   "execution_count": 24,
   "metadata": {},
   "outputs": [
    {
     "name": "stdout",
     "output_type": "stream",
     "text": [
      "A\n",
      "B\n",
      "C\n",
      "D\n",
      "E\n",
      "D\n",
      "E\n",
      "F\n",
      "G\n",
      "H\n"
     ]
    }
   ],
   "source": [
    "for item in my_list:\n",
    "    print(item.upper())"
   ]
  },
  {
   "cell_type": "code",
   "execution_count": 25,
   "metadata": {},
   "outputs": [
    {
     "data": {
      "text/plain": [
       "['a', 'b', 'c', 'd', 'e', 'd', 'e', 'f', 'g', 'h']"
      ]
     },
     "execution_count": 25,
     "metadata": {},
     "output_type": "execute_result"
    }
   ],
   "source": [
    "# Calling the upper() method does not change the value. my_list still holds\n",
    "# all lowercase\n",
    "\n",
    "my_list"
   ]
  },
  {
   "cell_type": "markdown",
   "metadata": {},
   "source": [
    "**Write a for loop to print both the index and the value of my_list for that index. Each line will have the index and the value. For example, the first line will be:**\n",
    "\n",
    "```\n",
    "0 A\n",
    "```"
   ]
  },
  {
   "cell_type": "code",
   "execution_count": 27,
   "metadata": {},
   "outputs": [
    {
     "name": "stdout",
     "output_type": "stream",
     "text": [
      "0 a\n",
      "1 b\n",
      "2 c\n",
      "3 d\n",
      "4 e\n",
      "5 d\n",
      "6 e\n",
      "7 f\n",
      "8 g\n",
      "9 h\n"
     ]
    }
   ],
   "source": [
    "for i in range(len(my_list)):\n",
    "    print(i, my_list[i])"
   ]
  },
  {
   "cell_type": "code",
   "execution_count": 30,
   "metadata": {},
   "outputs": [
    {
     "data": {
      "text/plain": [
       "10"
      ]
     },
     "execution_count": 30,
     "metadata": {},
     "output_type": "execute_result"
    }
   ],
   "source": [
    "len(my_list)"
   ]
  },
  {
   "cell_type": "markdown",
   "metadata": {},
   "source": [
    "---\n",
    "\n",
    "**Use ```my_name_list``` again for this problem.**\n",
    "\n",
    "**Write a for loop that cyles through ```my_name_list``` and on each line it prints the index, the lowercase version of your name with the string lower() method, and the length of your name**\n",
    "\n",
    "**Example, if \"Professor\" is the first element of ```my_name_list```, the first line would print:***\n",
    "\n",
    "```\n",
    "0 professor 9\n",
    "```"
   ]
  },
  {
   "cell_type": "code",
   "execution_count": 33,
   "metadata": {},
   "outputs": [
    {
     "name": "stdout",
     "output_type": "stream",
     "text": [
      "0 professor 9\n",
      "1 williams 8\n"
     ]
    }
   ],
   "source": [
    "for i in range(len(my_name_list)):\n",
    "    print(i, my_name_list[i].lower(), len(my_name_list[i]))"
   ]
  },
  {
   "cell_type": "markdown",
   "metadata": {},
   "source": [
    "---\n",
    "\n",
    "**Extra hard bonus problems**\n",
    "\n",
    "**Nothing this hard will be on the first test! But will be on the second test**\n",
    "\n",
    "**Covert your first name in ```my_name_list[0]``` to a new list called ```first_name_list```**"
   ]
  },
  {
   "cell_type": "code",
   "execution_count": 34,
   "metadata": {},
   "outputs": [
    {
     "data": {
      "text/plain": [
       "['P', 'r', 'o', 'f', 'e', 's', 's', 'o', 'r']"
      ]
     },
     "execution_count": 34,
     "metadata": {},
     "output_type": "execute_result"
    }
   ],
   "source": [
    "first_name_list = list(my_name_list[0])\n",
    "\n",
    "first_name_list"
   ]
  },
  {
   "cell_type": "markdown",
   "metadata": {},
   "source": [
    "**Hint, use the list() function**\n",
    "\n",
    "**Use a for loop and the list count() method to print every letter of your first name and the count, one letter and one count per line. It's ok to print the same letter twice.**\n",
    "\n",
    "**Example, if my first name is 'Professor' then ```first_name_list``` will be:**\n",
    "\n",
    "```\n",
    "['P', 'r', 'o', 'f', 'e', 's', 's', 'o', 'r']\n",
    "```\n",
    "\n",
    "**And the first three lines printed here would be:**\n",
    "\n",
    "```\n",
    "P 1\n",
    "r 2\n",
    "o 2\n",
    "```"
   ]
  },
  {
   "cell_type": "code",
   "execution_count": 35,
   "metadata": {},
   "outputs": [
    {
     "name": "stdout",
     "output_type": "stream",
     "text": [
      "P 1\n",
      "r 2\n",
      "o 2\n",
      "f 1\n",
      "e 1\n",
      "s 2\n",
      "s 2\n",
      "o 2\n",
      "r 2\n"
     ]
    }
   ],
   "source": [
    "for letter in first_name_list:\n",
    "    print(letter, first_name_list.count(letter))"
   ]
  },
  {
   "cell_type": "markdown",
   "metadata": {},
   "source": [
    "**Final extra extra hard problem. Do the same thing as above but do not print duplicates. For example, 'Professor' would become:**\n",
    "\n",
    "```\n",
    "P 1\n",
    "r 2\n",
    "o 2\n",
    "f 1\n",
    "e 1\n",
    "s 2\n",
    "```"
   ]
  },
  {
   "cell_type": "code",
   "execution_count": 37,
   "metadata": {},
   "outputs": [
    {
     "name": "stdout",
     "output_type": "stream",
     "text": [
      "P 1\n",
      "r 2\n",
      "o 2\n",
      "f 1\n",
      "e 1\n",
      "s 2\n"
     ]
    }
   ],
   "source": [
    "# Create a new list to hold letters we have seen before\n",
    "used_letters = []\n",
    "\n",
    "for letter in first_name_list:\n",
    "    if letter not in used_letters:\n",
    "        used_letters.append(letter)\n",
    "        print(letter, first_name_list.count(letter))"
   ]
  },
  {
   "cell_type": "code",
   "execution_count": null,
   "metadata": {},
   "outputs": [],
   "source": []
  }
 ],
 "metadata": {
  "kernelspec": {
   "display_name": "Python 3",
   "language": "python",
   "name": "python3"
  },
  "language_info": {
   "codemirror_mode": {
    "name": "ipython",
    "version": 3
   },
   "file_extension": ".py",
   "mimetype": "text/x-python",
   "name": "python",
   "nbconvert_exporter": "python",
   "pygments_lexer": "ipython3",
   "version": "3.6.6"
  }
 },
 "nbformat": 4,
 "nbformat_minor": 2
}
