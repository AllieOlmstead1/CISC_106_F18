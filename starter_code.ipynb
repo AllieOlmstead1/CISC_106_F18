{
 "cells": [
  {
   "cell_type": "markdown",
   "metadata": {},
   "source": [
    "# Starter Code\n",
    "\n",
    "**Feel free to copy and paste this code. Note: Labs do not allow pasting.**\n",
    "\n",
    "## While Loop\n",
    "\n",
    "Three steps to a while loop:\n",
    "* Initialize a variable (using a variable passed into a function counts as initializing)\n",
    "* Use that variable in a conditional statement (Anything corresponding to True or False)\n",
    "* Update that variable within the while loop's code block\n",
    "\n",
    "**This is the while loop \"recipee\" I introduced:**"
   ]
  },
  {
   "cell_type": "code",
   "execution_count": 1,
   "metadata": {},
   "outputs": [
    {
     "name": "stdout",
     "output_type": "stream",
     "text": [
      "Hello, world.\n",
      "Hello, world.\n",
      "Hello, world.\n",
      "Hello, world.\n",
      "Hello, world.\n"
     ]
    }
   ],
   "source": [
    "# Initialize a variable (or use a variable passed into a function)\n",
    "counter = 0\n",
    "\n",
    "# Use that variable in the conditional statement\n",
    "while counter < 5:\n",
    "\n",
    "    # This block of code only runs if the conditional statement is true.\n",
    "    # The \"block\" of code is everthing that is indented here\n",
    "    print('Hello, world.')\n",
    "\n",
    "    # Update the variable used in conditional statement!\n",
    "    counter += 1"
   ]
  },
  {
   "cell_type": "markdown",
   "metadata": {},
   "source": [
    "## Function Design Recipe"
   ]
  },
  {
   "cell_type": "code",
   "execution_count": null,
   "metadata": {},
   "outputs": [],
   "source": [
    "def my_function(a_var1, a_var2):\n",
    "    \"\"\"\n",
    "    Description of function, start the sentence with a verb.\n",
    "    Parameters:\n",
    "        a_var1 (type)\n",
    "        a_var2 (type)\n",
    "    Returns:\n",
    "        return_variable_name (type)\n",
    "    \"\"\"\n",
    "    \n",
    "    # Generally you want to set your return variable to an initial value\n",
    "    return_variable_name = ''\n",
    "    \n",
    "    # Do some things here\n",
    "\n",
    "    # Don't forget to return a value!\n",
    "    return return_variable_name\n",
    "\n",
    "\n",
    "# Write test cases for your function. Generally you want at least one that is True and one that is False\n",
    "assert my_function(my_var1, my_var2) == True\n",
    "assert my_function(my_var3, my_var4) == False\n"
   ]
  }
 ],
 "metadata": {
  "kernelspec": {
   "display_name": "Python 3",
   "language": "python",
   "name": "python3"
  },
  "language_info": {
   "codemirror_mode": {
    "name": "ipython",
    "version": 3
   },
   "file_extension": ".py",
   "mimetype": "text/x-python",
   "name": "python",
   "nbconvert_exporter": "python",
   "pygments_lexer": "ipython3",
   "version": "3.6.5"
  }
 },
 "nbformat": 4,
 "nbformat_minor": 2
}
