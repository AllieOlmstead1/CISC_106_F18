{
 "cells": [
  {
   "cell_type": "markdown",
   "metadata": {},
   "source": [
    "# Starter Code\n",
    "\n",
    "**Feel free to copy and paste this code. Note: Labs do not allow pasting.**\n",
    "\n",
    "## While Loop\n",
    "\n",
    "Three steps to a while loop:\n",
    "* Initialize a variable (using a variable passed into a function counts as initializing)\n",
    "* Use that variable in a conditional statement (Anything corresponding to True or False)\n",
    "* Update that variable within the while loop's code block\n",
    "\n",
    "**This is the while loop \"recipee\" I introduced:**"
   ]
  },
  {
   "cell_type": "code",
   "execution_count": 2,
   "metadata": {},
   "outputs": [
    {
     "name": "stdout",
     "output_type": "stream",
     "text": [
      "0 Hello, world.\n",
      "1 Hello, world.\n",
      "2 Hello, world.\n",
      "3 Hello, world.\n",
      "4 Hello, world.\n"
     ]
    }
   ],
   "source": [
    "# Initialize a variable (or use a variable passed into a function)\n",
    "counter = 0\n",
    "\n",
    "# Use that variable in the conditional statement\n",
    "while counter < 5:\n",
    "\n",
    "    # This block of code only runs if the conditional statement is true.\n",
    "    # The \"block\" of code is everthing that is indented here\n",
    "    print(counter, 'Hello, world.')\n",
    "\n",
    "    # Update the variable used in conditional statement!\n",
    "    counter += 1"
   ]
  },
  {
   "cell_type": "markdown",
   "metadata": {},
   "source": [
    "## Function Design Recipe\n",
    "\n",
    "**Notes:**\n",
    "* Replace '(type)' with the type of variable you are using or returning.\n",
    "  * Example: (int), (float), (str), (bool)\n",
    "* Replace 'my_function' with the name of your function\n",
    "* Replace 'a_var1' with the name of your variable\n",
    "  * Replace 'a_var2' with the name of your second variable, or remove if only one\n",
    "  * Add variables if needed\n",
    "* Replace 'return_variable_name' with the name of your return variable\n"
   ]
  },
  {
   "cell_type": "code",
   "execution_count": 3,
   "metadata": {},
   "outputs": [
    {
     "ename": "NameError",
     "evalue": "name 'my_var1' is not defined",
     "output_type": "error",
     "traceback": [
      "\u001b[0;31m---------------------------------------------------------------------------\u001b[0m",
      "\u001b[0;31mNameError\u001b[0m                                 Traceback (most recent call last)",
      "\u001b[0;32m<ipython-input-3-829710c565a4>\u001b[0m in \u001b[0;36m<module>\u001b[0;34m()\u001b[0m\n\u001b[1;32m     20\u001b[0m \u001b[0;34m\u001b[0m\u001b[0m\n\u001b[1;32m     21\u001b[0m \u001b[0;31m# Write test cases for your function. Generally you want at least one that is True and one that is False\u001b[0m\u001b[0;34m\u001b[0m\u001b[0;34m\u001b[0m\u001b[0m\n\u001b[0;32m---> 22\u001b[0;31m \u001b[0;32massert\u001b[0m \u001b[0mmy_function\u001b[0m\u001b[0;34m(\u001b[0m\u001b[0mmy_var1\u001b[0m\u001b[0;34m,\u001b[0m \u001b[0mmy_var2\u001b[0m\u001b[0;34m)\u001b[0m \u001b[0;34m==\u001b[0m \u001b[0;32mTrue\u001b[0m\u001b[0;34m\u001b[0m\u001b[0m\n\u001b[0m\u001b[1;32m     23\u001b[0m \u001b[0;32massert\u001b[0m \u001b[0mmy_function\u001b[0m\u001b[0;34m(\u001b[0m\u001b[0mmy_var3\u001b[0m\u001b[0;34m,\u001b[0m \u001b[0mmy_var4\u001b[0m\u001b[0;34m)\u001b[0m \u001b[0;34m==\u001b[0m \u001b[0;32mFalse\u001b[0m\u001b[0;34m\u001b[0m\u001b[0m\n",
      "\u001b[0;31mNameError\u001b[0m: name 'my_var1' is not defined"
     ]
    }
   ],
   "source": [
    "def my_function(a_var1, a_var2):\n",
    "    \"\"\"\n",
    "    Description of function, start the sentence with a verb.\n",
    "    Parameters:\n",
    "        a_var1 (type)\n",
    "        a_var2 (type)\n",
    "    Returns:\n",
    "        return_variable_name (type)\n",
    "    \"\"\"\n",
    "    \n",
    "    # Generally you want to set your return variable to an initial value\n",
    "    # You do not always have to set this\n",
    "    return_variable_name = ''\n",
    "    \n",
    "    # Do some things here\n",
    "\n",
    "    # Don't forget to return a value!\n",
    "    return return_variable_name\n",
    "\n",
    "\n",
    "# Write test cases for your function. Write at least 3 asserts.\n",
    "assert my_function(my_var1, my_var2) == \n",
    "assert my_function(my_var3, my_var4) == \n",
    "assert my_function(my_var5, my_var6) == \n"
   ]
  },
  {
   "cell_type": "code",
   "execution_count": null,
   "metadata": {},
   "outputs": [],
   "source": []
  }
 ],
 "metadata": {
  "kernelspec": {
   "display_name": "Python 3",
   "language": "python",
   "name": "python3"
  },
  "language_info": {
   "codemirror_mode": {
    "name": "ipython",
    "version": 3
   },
   "file_extension": ".py",
   "mimetype": "text/x-python",
   "name": "python",
   "nbconvert_exporter": "python",
   "pygments_lexer": "ipython3",
   "version": "3.6.5"
  }
 },
 "nbformat": 4,
 "nbformat_minor": 2
}
