{
 "cells": [
  {
   "cell_type": "markdown",
   "metadata": {},
   "source": [
    "# Pre Lab 2\n",
    "\n",
    "**Some things you need to know heading into the second lab**\n",
    "\n",
    "**How do you call a function to calculate the ceiling of pi?**"
   ]
  },
  {
   "cell_type": "code",
   "execution_count": 22,
   "metadata": {},
   "outputs": [
    {
     "data": {
      "text/plain": [
       "4"
      ]
     },
     "execution_count": 22,
     "metadata": {},
     "output_type": "execute_result"
    }
   ],
   "source": [
    "from math import ceil, pi\n",
    "\n",
    "ceil(pi)"
   ]
  },
  {
   "cell_type": "markdown",
   "metadata": {},
   "source": [
    "**Some functions can accept additional arguments. You do not need to know how, but if you're curious it is the ```*args``` variable you may see in function definitions. min() is such a function:**"
   ]
  },
  {
   "cell_type": "code",
   "execution_count": 23,
   "metadata": {},
   "outputs": [
    {
     "name": "stdout",
     "output_type": "stream",
     "text": [
      "Help on built-in function min in module builtins:\n",
      "\n",
      "min(...)\n",
      "    min(iterable, *[, default=obj, key=func]) -> value\n",
      "    min(arg1, arg2, *args, *[, key=func]) -> value\n",
      "    \n",
      "    With a single iterable argument, return its smallest item. The\n",
      "    default keyword-only argument specifies an object to return if\n",
      "    the provided iterable is empty.\n",
      "    With two or more arguments, return the smallest argument.\n",
      "\n"
     ]
    }
   ],
   "source": [
    "help(min)"
   ]
  },
  {
   "cell_type": "code",
   "execution_count": 28,
   "metadata": {},
   "outputs": [
    {
     "name": "stdout",
     "output_type": "stream",
     "text": [
      "2\n",
      "5\n"
     ]
    },
    {
     "data": {
      "text/plain": [
       "5"
      ]
     },
     "execution_count": 28,
     "metadata": {},
     "output_type": "execute_result"
    }
   ],
   "source": [
    "# Call min with two arguments\n",
    "print(min(2, 5))\n",
    "\n",
    "# Call min with four arguments\n",
    "print(min(5, 8, 10, 11))\n",
    "\n",
    "# Call min with a list\n",
    "my_list = [5, 8, 10, 11]\n",
    "min(my_list)"
   ]
  },
  {
   "cell_type": "code",
   "execution_count": 27,
   "metadata": {},
   "outputs": [
    {
     "name": "stdout",
     "output_type": "stream",
     "text": [
      "5\n",
      "8\n",
      "10\n",
      "11\n"
     ]
    }
   ],
   "source": [
    "for i in range(len(my_list)):\n",
    "    print(my_list[i])"
   ]
  },
  {
   "cell_type": "markdown",
   "metadata": {},
   "source": [
    "**Write a function that returns ```True``` if the parameter is even, ```False``` if it is odd**"
   ]
  },
  {
   "cell_type": "code",
   "execution_count": 31,
   "metadata": {},
   "outputs": [
    {
     "data": {
      "text/plain": [
       "False"
      ]
     },
     "execution_count": 31,
     "metadata": {},
     "output_type": "execute_result"
    }
   ],
   "source": [
    "def is_even(number):\n",
    "    \"\"\"\n",
    "    Finds if a number is even\n",
    "    Parameters:\n",
    "        number (int)\n",
    "    Returns:\n",
    "        answer (bool)\n",
    "    \"\"\"\n",
    "    \n",
    "    # Generally you want to set your return variable to an initial value\n",
    "    answer = number % 2 == 0\n",
    "    \n",
    "    # Don't forget to return a value!\n",
    "    return answer\n",
    "\n",
    "\n",
    "# Write test cases for your function. Generally you want at least one that is True and one that is False\n",
    "assert is_even(2) == True\n",
    "assert is_even(3) == False\n",
    "assert is_even(4) == True\n",
    "assert is_even(5) == False\n",
    "\n",
    "is_even(3)"
   ]
  },
  {
   "cell_type": "markdown",
   "metadata": {},
   "source": [
    "**Write a function that converts seconds into minutes**"
   ]
  },
  {
   "cell_type": "code",
   "execution_count": 34,
   "metadata": {},
   "outputs": [
    {
     "data": {
      "text/plain": [
       "2.0"
      ]
     },
     "execution_count": 34,
     "metadata": {},
     "output_type": "execute_result"
    }
   ],
   "source": [
    "def seconds_to_minutes(seconds):\n",
    "    \"\"\"\n",
    "    Convert seconds to minutes\n",
    "    Parameters:\n",
    "        seconds (float)\n",
    "    Returns:\n",
    "        minutes (float)\n",
    "    \"\"\"\n",
    "    \n",
    "    # Generally you want to set your return variable to an initial value\n",
    "    minutes = seconds / 60\n",
    "    \n",
    "    # Don't forget to return a value!\n",
    "    return minutes\n",
    "\n",
    "\n",
    "# Write test cases for your function. Generally you want at least one that is True and one that is False\n",
    "assert seconds_to_minutes(60) == 1.0\n",
    "assert seconds_to_minutes(120) == 2.0\n",
    "assert seconds_to_minutes(30) == .5\n",
    "\n",
    "seconds_to_minutes(120)"
   ]
  },
  {
   "cell_type": "markdown",
   "metadata": {},
   "source": [
    "**In the lab you will call the special CISC 106 version of assert. You will *not* have to import it into the lab, that will be done for you behind the scenes. Likewise, the lab will ask you to use variable that you have not created. They have been set up for you.**\n",
    "\n",
    "**This is not the lab, so I need to import the function here.**"
   ]
  },
  {
   "cell_type": "code",
   "execution_count": 4,
   "metadata": {},
   "outputs": [
    {
     "name": "stdout",
     "output_type": "stream",
     "text": [
      "Help on function assertEqual in module cisc106:\n",
      "\n",
      "assertEqual(x, y, *args)\n",
      "    Checks an expected value using the __isEqual function.\n",
      "    Prints a message if the test case passed or failed.\n",
      "\n"
     ]
    }
   ],
   "source": [
    "from cisc106 import assertEqual\n",
    "\n",
    "help(assertEqual)"
   ]
  },
  {
   "cell_type": "markdown",
   "metadata": {},
   "source": [
    "**Note on the assertEqual function. When comparing floats it passes as long as the two numbers are close enough.**"
   ]
  },
  {
   "cell_type": "code",
   "execution_count": 48,
   "metadata": {
    "scrolled": true
   },
   "outputs": [
    {
     "name": "stdout",
     "output_type": "stream",
     "text": [
      "SUCCESS - [line 2] assertEqual(1, 1)\n",
      "SUCCESS - [line 3] assertEqual(1.0, 1)\n",
      "FAILURE - [line 6] assertEqual(1.001, 1.0), predicted answer was 1.0, computed answer was 1.001 \n",
      "SUCCESS - [line 9] assertEqual(1.0001, 1.0)\n",
      "FAILURE - [line12] assertEqual(1, True), predicted answer was True <class 'bool'>, computed answer was 1 <class 'int'> (Attempting to compare unrelated data types.)\n",
      "FAILURE - [line13] assertEqual(1, 'one'), predicted answer was one <class 'str'>, computed answer was 1 <class 'int'> (Attempting to compare unrelated data types.)\n"
     ]
    },
    {
     "ename": "AssertionError",
     "evalue": "",
     "output_type": "error",
     "traceback": [
      "\u001b[0;31m---------------------------------------------------------------------------\u001b[0m",
      "\u001b[0;31mAssertionError\u001b[0m                            Traceback (most recent call last)",
      "\u001b[0;32m<ipython-input-48-25a264694106>\u001b[0m in \u001b[0;36m<module>\u001b[0;34m()\u001b[0m\n\u001b[1;32m     14\u001b[0m \u001b[0;34m\u001b[0m\u001b[0m\n\u001b[1;32m     15\u001b[0m \u001b[0;31m# Reminder, Pythons regular assert statement will throw an error if it fails\u001b[0m\u001b[0;34m\u001b[0m\u001b[0;34m\u001b[0m\u001b[0m\n\u001b[0;32m---> 16\u001b[0;31m \u001b[0;32massert\u001b[0m \u001b[0;36m1.0001\u001b[0m \u001b[0;34m==\u001b[0m \u001b[0;36m1.0\u001b[0m\u001b[0;34m\u001b[0m\u001b[0m\n\u001b[0m",
      "\u001b[0;31mAssertionError\u001b[0m: "
     ]
    }
   ],
   "source": [
    "# Make some test cases for assertEqual\n",
    "assertEqual(1, 1)\n",
    "assertEqual(1.0, 1)\n",
    "\n",
    "# This is close enough\n",
    "assertEqual(1.001, 1.0)\n",
    "\n",
    "# This is not close enough\n",
    "assertEqual(1.0001, 1.0)\n",
    "\n",
    "# These fail\n",
    "assertEqual(1, True)\n",
    "assertEqual(1, 'one')\n",
    "\n",
    "# Reminder, Pythons regular assert statement will throw an error if it fails\n",
    "assert 1.0001 == 1.0\n"
   ]
  },
  {
   "cell_type": "code",
   "execution_count": 39,
   "metadata": {},
   "outputs": [
    {
     "data": {
      "text/plain": [
       "True"
      ]
     },
     "execution_count": 39,
     "metadata": {},
     "output_type": "execute_result"
    }
   ],
   "source": [
    "# Note, regular Python also considers 1.0 to equal 1\n",
    "1.0 == 1"
   ]
  },
  {
   "cell_type": "code",
   "execution_count": 16,
   "metadata": {},
   "outputs": [],
   "source": []
  },
  {
   "cell_type": "code",
   "execution_count": null,
   "metadata": {},
   "outputs": [],
   "source": []
  }
 ],
 "metadata": {
  "kernelspec": {
   "display_name": "Python 3",
   "language": "python",
   "name": "python3"
  },
  "language_info": {
   "codemirror_mode": {
    "name": "ipython",
    "version": 3
   },
   "file_extension": ".py",
   "mimetype": "text/x-python",
   "name": "python",
   "nbconvert_exporter": "python",
   "pygments_lexer": "ipython3",
   "version": "3.6.5"
  }
 },
 "nbformat": 4,
 "nbformat_minor": 2
}
