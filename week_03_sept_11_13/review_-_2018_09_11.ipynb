{
 "cells": [
  {
   "cell_type": "markdown",
   "metadata": {},
   "source": [
    "# Review -- September 11, 2018\n",
    "\n",
    "[![Binder](https://mybinder.org/badge.svg)](https://mybinder.org/v2/gh/enactdev/CISC_106_F18/master?filepath=week_03_sept_11_13/review_-_2018_09_11.ipynb)\n",
    "\n"
   ]
  },
  {
   "cell_type": "markdown",
   "metadata": {},
   "source": [
    "### While Loops\n",
    "\n",
    "**A while loop will run a block of code an unknown number of times until the conditional statement is false. It does not have to run at all. They are great for verifying input:**"
   ]
  },
  {
   "cell_type": "code",
   "execution_count": 1,
   "metadata": {},
   "outputs": [
    {
     "name": "stdout",
     "output_type": "stream",
     "text": [
      "True\n",
      "False\n"
     ]
    }
   ],
   "source": [
    "print('5'.isnumeric())\n",
    "print('five'.isnumeric())\n"
   ]
  },
  {
   "cell_type": "code",
   "execution_count": 3,
   "metadata": {},
   "outputs": [
    {
     "name": "stdout",
     "output_type": "stream",
     "text": [
      "Enter an integer:\n",
      "That was not an integer. Please enter an integer:5\n",
      "You entered the number:  5\n"
     ]
    }
   ],
   "source": [
    "my_int = input('Enter an integer:')\n",
    "\n",
    "num_errors = 0\n",
    "while my_int.isnumeric() is False:\n",
    "    if num_errors < 3:\n",
    "        my_int = input('That was not an integer. Please enter an integer:')\n",
    "    else:\n",
    "        my_int = input('Just give up and move on:')\n",
    "    num_errors += 1\n",
    "    \n",
    "my_int = int(my_int)\n",
    "\n",
    "print('You entered the number: ', my_int)"
   ]
  },
  {
   "cell_type": "markdown",
   "metadata": {},
   "source": [
    "**You can write a for loop as a while loop, but it takes more lines**"
   ]
  },
  {
   "cell_type": "code",
   "execution_count": 4,
   "metadata": {},
   "outputs": [
    {
     "name": "stdout",
     "output_type": "stream",
     "text": [
      "0\n",
      "1\n",
      "2\n",
      "3\n",
      "4\n"
     ]
    }
   ],
   "source": [
    "for i in range(5):\n",
    "    print(i)"
   ]
  },
  {
   "cell_type": "code",
   "execution_count": 5,
   "metadata": {},
   "outputs": [
    {
     "name": "stdout",
     "output_type": "stream",
     "text": [
      "0\n",
      "1\n",
      "2\n",
      "3\n",
      "4\n"
     ]
    }
   ],
   "source": [
    "i = 0\n",
    "while i < 5:\n",
    "    print(i)\n",
    "    i += 1"
   ]
  },
  {
   "cell_type": "markdown",
   "metadata": {},
   "source": [
    "**While loops can also run until a mathmatical equation is complete. Last week we computed the value of a factorial with a while loop. Let's solve a new problem together with a while loop. This is also the outline for a function Design Recipe which we will cover later today.**\n",
    "\n",
    "**You will learn more in the readings for Thursday. The function definition and how to create comments should look familiar. The ```assert``` statement is new. It's like an if statement in that what follows is only run if it is True. However, if it is false it will throw an error**\n"
   ]
  },
  {
   "cell_type": "code",
   "execution_count": 6,
   "metadata": {},
   "outputs": [],
   "source": [
    "assert 1 is 1"
   ]
  },
  {
   "cell_type": "code",
   "execution_count": 7,
   "metadata": {},
   "outputs": [
    {
     "ename": "AssertionError",
     "evalue": "",
     "output_type": "error",
     "traceback": [
      "\u001b[0;31m---------------------------------------------------------------------------\u001b[0m",
      "\u001b[0;31mAssertionError\u001b[0m                            Traceback (most recent call last)",
      "\u001b[0;32m<ipython-input-7-e8f1d17f7a84>\u001b[0m in \u001b[0;36m<module>\u001b[0;34m()\u001b[0m\n\u001b[0;32m----> 1\u001b[0;31m \u001b[0;32massert\u001b[0m \u001b[0;36m1\u001b[0m \u001b[0;32mis\u001b[0m \u001b[0;36m2\u001b[0m\u001b[0;34m\u001b[0m\u001b[0m\n\u001b[0m\u001b[1;32m      2\u001b[0m \u001b[0mprint\u001b[0m\u001b[0;34m(\u001b[0m\u001b[0;34m'1 is 2 is False so this will not be printed.'\u001b[0m\u001b[0;34m)\u001b[0m\u001b[0;34m\u001b[0m\u001b[0m\n",
      "\u001b[0;31mAssertionError\u001b[0m: "
     ]
    }
   ],
   "source": [
    "assert 1 is 2\n",
    "print('1 is 2 is False so this will not be printed.')"
   ]
  },
  {
   "cell_type": "markdown",
   "metadata": {},
   "source": [
    "**Write a function that takes an integer n and returns how many times it can be divided by 2 until it is less than 1**"
   ]
  },
  {
   "cell_type": "code",
   "execution_count": 8,
   "metadata": {},
   "outputs": [],
   "source": [
    "def how_many_times_divided_by_2(n):\n",
    "    \"\"\"\n",
    "    Calculate how many times a number n can be divided by 2 until it is less than 1\n",
    "    Parameters:\n",
    "        n (int)\n",
    "    Returns:\n",
    "        how_many_times(int)\n",
    "    \"\"\"\n",
    "    \n",
    "    how_many_times = 0\n",
    "    \n",
    "    #print(how_many_times, n)\n",
    "    \n",
    "    while n >= 1:\n",
    "        \n",
    "        n = n / 2\n",
    "        how_many_times += 1\n",
    "        #print(how_many_times, n)\n",
    "\n",
    "    return how_many_times\n",
    "\n",
    "#print(how_many_times_divided_by_2(10))\n",
    "\n",
    "\n",
    "assert how_many_times_divided_by_2(0.5) == 0\n",
    "assert how_many_times_divided_by_2(1) == 1\n",
    "assert how_many_times_divided_by_2(2) == 2\n",
    "assert how_many_times_divided_by_2(4) == 3\n"
   ]
  },
  {
   "cell_type": "markdown",
   "metadata": {},
   "source": [
    "### Re-reversing a list\n",
    "**After calling reverse(), call it again to revert**\n"
   ]
  },
  {
   "cell_type": "code",
   "execution_count": 14,
   "metadata": {},
   "outputs": [
    {
     "data": {
      "text/plain": [
       "['a', 'b', 'c']"
      ]
     },
     "execution_count": 14,
     "metadata": {},
     "output_type": "execute_result"
    }
   ],
   "source": [
    "my_list = ['a', 'b', 'c']\n",
    "my_list"
   ]
  },
  {
   "cell_type": "code",
   "execution_count": 15,
   "metadata": {},
   "outputs": [
    {
     "data": {
      "text/plain": [
       "['c', 'b', 'a']"
      ]
     },
     "execution_count": 15,
     "metadata": {},
     "output_type": "execute_result"
    }
   ],
   "source": [
    "my_list.reverse()\n",
    "my_list"
   ]
  },
  {
   "cell_type": "code",
   "execution_count": 16,
   "metadata": {},
   "outputs": [
    {
     "data": {
      "text/plain": [
       "['a', 'b', 'c']"
      ]
     },
     "execution_count": 16,
     "metadata": {},
     "output_type": "execute_result"
    }
   ],
   "source": [
    "my_list.reverse()\n",
    "my_list"
   ]
  },
  {
   "cell_type": "code",
   "execution_count": null,
   "metadata": {},
   "outputs": [],
   "source": []
  }
 ],
 "metadata": {
  "kernelspec": {
   "display_name": "Python 3",
   "language": "python",
   "name": "python3"
  },
  "language_info": {
   "codemirror_mode": {
    "name": "ipython",
    "version": 3
   },
   "file_extension": ".py",
   "mimetype": "text/x-python",
   "name": "python",
   "nbconvert_exporter": "python",
   "pygments_lexer": "ipython3",
   "version": "3.6.5"
  }
 },
 "nbformat": 4,
 "nbformat_minor": 2
}
