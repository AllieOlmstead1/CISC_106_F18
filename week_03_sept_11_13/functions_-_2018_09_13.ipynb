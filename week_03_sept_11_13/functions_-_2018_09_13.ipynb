{
 "cells": [
  {
   "cell_type": "code",
   "execution_count": null,
   "metadata": {},
   "outputs": [],
   "source": []
  },
  {
   "cell_type": "code",
   "execution_count": null,
   "metadata": {},
   "outputs": [],
   "source": []
  },
  {
   "cell_type": "code",
   "execution_count": null,
   "metadata": {},
   "outputs": [],
   "source": []
  },
  {
   "cell_type": "markdown",
   "metadata": {},
   "source": [
    "### Function Parameters: Mutable vs. Immutable \n",
    "**Reminder: mutable means you can change the object, immutable means you can not change the object (but you can replace it with a new object).**\n",
    "\n",
    "**A tricky thing about Python functions -- if you pass a mutable object then the function can change the value! Let's see it in action.**\n",
    "\n",
    "**First: Immutable objects, which include integers and strings**"
   ]
  },
  {
   "cell_type": "code",
   "execution_count": 5,
   "metadata": {},
   "outputs": [],
   "source": [
    "def mult_by_two_and_print(a_value):\n",
    "    a_value = a_value * 2\n",
    "    print('Value in function:', a_value)\n"
   ]
  },
  {
   "cell_type": "code",
   "execution_count": 6,
   "metadata": {},
   "outputs": [
    {
     "name": "stdout",
     "output_type": "stream",
     "text": [
      "Value before function call: 5\n",
      "Value in function: 10\n",
      "Value after function call: 5\n"
     ]
    }
   ],
   "source": [
    "# Integers are immutable, and the function does not change the value\n",
    "my_int = 5\n",
    "print('Value before function call:', my_int)\n",
    "mult_by_two_and_print(my_int)\n",
    "print('Value after function call:',my_int)"
   ]
  },
  {
   "cell_type": "code",
   "execution_count": 7,
   "metadata": {},
   "outputs": [
    {
     "name": "stdout",
     "output_type": "stream",
     "text": [
      "Value before function call: Hello World\n",
      "Value in function: Hello WorldHello World\n",
      "Value after function call: Hello World\n"
     ]
    }
   ],
   "source": [
    "# Strings are immutable, and the function does not change the value\n",
    "my_str = 'Hello World'\n",
    "print('Value before function call:', my_str)\n",
    "mult_by_two_and_print(my_str)\n",
    "print('Value after function call:',my_str)"
   ]
  },
  {
   "cell_type": "markdown",
   "metadata": {},
   "source": [
    "**Now lets test Mutable objects, which include lists**"
   ]
  },
  {
   "cell_type": "code",
   "execution_count": 8,
   "metadata": {},
   "outputs": [
    {
     "name": "stdout",
     "output_type": "stream",
     "text": [
      "Value before function call: ['a', 'b', 'c']\n",
      "Value in function: ['a', 'b', 'c', 'a', 'b', 'c']\n",
      "Value after function call: ['a', 'b', 'c']\n"
     ]
    }
   ],
   "source": [
    "# Lists are mutable, and the function WILL CHANGE the value\n",
    "my_list = ['a', 'b', 'c']\n",
    "print('Value before function call:', my_list)\n",
    "mult_by_two_and_print(my_list)\n",
    "print('Value after function call:',my_list)"
   ]
  },
  {
   "cell_type": "code",
   "execution_count": 9,
   "metadata": {},
   "outputs": [],
   "source": [
    "def mult_list_elements_by_two_and_print(a_list):\n",
    "    for i in range(len(a_list)):\n",
    "        a_list[i] = a_list[i] * 2\n",
    "    print('Value in function:', a_list)\n"
   ]
  },
  {
   "cell_type": "code",
   "execution_count": 10,
   "metadata": {},
   "outputs": [
    {
     "name": "stdout",
     "output_type": "stream",
     "text": [
      "Value before function call: ['a', 'b', 'c']\n",
      "Value in function: ['aa', 'bb', 'cc']\n",
      "Value after function call: ['aa', 'bb', 'cc']\n"
     ]
    }
   ],
   "source": [
    "# Lists are mutable, and the function WILL CHANGE the value\n",
    "my_list = ['a', 'b', 'c']\n",
    "print('Value before function call:', my_list)\n",
    "mult_list_elements_by_two_and_print(my_list)\n",
    "print('Value after function call:',my_list)"
   ]
  },
  {
   "cell_type": "code",
   "execution_count": null,
   "metadata": {},
   "outputs": [],
   "source": []
  }
 ],
 "metadata": {
  "kernelspec": {
   "display_name": "Python 3",
   "language": "python",
   "name": "python3"
  },
  "language_info": {
   "codemirror_mode": {
    "name": "ipython",
    "version": 3
   },
   "file_extension": ".py",
   "mimetype": "text/x-python",
   "name": "python",
   "nbconvert_exporter": "python",
   "pygments_lexer": "ipython3",
   "version": "3.6.5"
  }
 },
 "nbformat": 4,
 "nbformat_minor": 2
}
