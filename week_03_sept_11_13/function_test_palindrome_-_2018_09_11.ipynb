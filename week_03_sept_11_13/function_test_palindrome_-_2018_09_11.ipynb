{
 "cells": [
  {
   "cell_type": "markdown",
   "metadata": {},
   "source": [
    "# Functions to test if a string is a palindrome -- September 11, 2018\n",
    "\n",
    "[![Binder](https://mybinder.org/badge.svg)](https://mybinder.org/v2/gh/enactdev/CISC_106_F18/master?filepath=week_03_sept_11_13/function_test_palindrome_-_2018_09_11.ipynb)\n",
    "\n",
    "\n",
    "\n",
    "\n",
    "While, if i is less than half the length, then i in reverse\n",
    "\n",
    "Counter - check first and last character, then second and second to last\n",
    "\n",
    "Loop to iterate through string backwards to create a reverse string and compare to original\n",
    "\n",
    "Test the length of the string, mod 2. If 0 string is even, if 1 it is odd. If even, look at first half. "
   ]
  },
  {
   "cell_type": "code",
   "execution_count": 18,
   "metadata": {},
   "outputs": [],
   "source": [
    "def test_palindrome_one(a_string):\n",
    "    \"\"\"\n",
    "    Tests whether a string is a palindrome\n",
    "    Parameters:\n",
    "        a_string (string)\n",
    "    Returns:\n",
    "        whether string is a palindrome (bool)\n",
    "    \"\"\"\n",
    "\n",
    "    i = len(a_string) -1\n",
    "    reverse_string = ''\n",
    "    while i >= 0:\n",
    "        reverse_string += a_string[i]\n",
    "        i -= 1\n",
    "            \n",
    "    #print(a_string, reverse_string)\n",
    "\n",
    "    return a_string == reverse_string\n",
    "\n",
    "#print(test_palindrome_one('abc'))\n",
    "\n",
    "assert test_palindrome_one('aba') == True\n",
    "assert test_palindrome_one('abcba') == True\n",
    "assert test_palindrome_one('abc') == False\n"
   ]
  },
  {
   "cell_type": "code",
   "execution_count": null,
   "metadata": {},
   "outputs": [],
   "source": []
  },
  {
   "cell_type": "code",
   "execution_count": 19,
   "metadata": {},
   "outputs": [],
   "source": [
    "def palindrome_test_professor_williams(a_string):\n",
    "    \"\"\"\n",
    "    Calculate how many times a number n can be divided by 2 until it is less than 1\n",
    "    Parameters:\n",
    "        a_string (int)\n",
    "    Returns:\n",
    "        is_palindrome (bool)\n",
    "    \"\"\"\n",
    "    n = 0\n",
    "    reverse_n = len(a_string) - 1\n",
    "    while reverse_n > n:\n",
    "        if a_string[n] != a_string[reverse_n]:\n",
    "            return False\n",
    "        n += 1\n",
    "        reverse_n -= 1\n",
    "\n",
    "    return True\n",
    "    \n",
    "assert palindrome_test_professor_williams('abba') == True\n",
    "assert palindrome_test_professor_williams('abcba') == True\n",
    "assert palindrome_test_professor_williams('a') == True\n",
    "assert palindrome_test_professor_williams('abc') == False"
   ]
  },
  {
   "cell_type": "code",
   "execution_count": 20,
   "metadata": {},
   "outputs": [
    {
     "data": {
      "text/plain": [
       "False"
      ]
     },
     "execution_count": 20,
     "metadata": {},
     "output_type": "execute_result"
    }
   ],
   "source": [
    "palindrome_test_professor_williams('abc')"
   ]
  },
  {
   "cell_type": "code",
   "execution_count": 21,
   "metadata": {},
   "outputs": [
    {
     "data": {
      "text/plain": [
       "True"
      ]
     },
     "execution_count": 21,
     "metadata": {},
     "output_type": "execute_result"
    }
   ],
   "source": [
    "palindrome_test_professor_williams('abcba')"
   ]
  },
  {
   "cell_type": "code",
   "execution_count": null,
   "metadata": {},
   "outputs": [],
   "source": []
  }
 ],
 "metadata": {
  "kernelspec": {
   "display_name": "Python 3",
   "language": "python",
   "name": "python3"
  },
  "language_info": {
   "codemirror_mode": {
    "name": "ipython",
    "version": 3
   },
   "file_extension": ".py",
   "mimetype": "text/x-python",
   "name": "python",
   "nbconvert_exporter": "python",
   "pygments_lexer": "ipython3",
   "version": "3.6.5"
  }
 },
 "nbformat": 4,
 "nbformat_minor": 2
}
