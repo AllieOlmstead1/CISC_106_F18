{
 "cells": [
  {
   "cell_type": "markdown",
   "metadata": {},
   "source": [
    "# Scope of strings, numbers, and other immutable data types.\n",
    "\n",
    "### The books are a little confusing on scope. This is what you need to know for the first test.\n",
    "\n",
    "### Note: Scope is more confusing when it comes to lists, which we will learn after the first test.\n",
    "\n",
    "---\n",
    "\n",
    "**You do not need to know the definitions of mutable and immutable data types for the first test. I just want to point out that everythign that works here works the same for all immutable data types.)**\n",
    "\n",
    "**Review: When working with strings and numbers, the following code copies the value of a variable into a new variable. The first variable is then assigned a new value.**"
   ]
  },
  {
   "cell_type": "code",
   "execution_count": 1,
   "metadata": {},
   "outputs": [
    {
     "name": "stdout",
     "output_type": "stream",
     "text": [
      "7 5\n"
     ]
    }
   ],
   "source": [
    "# Initialize a variable\n",
    "my_int_1 = 5\n",
    "\n",
    "# Copy the value of the variable into a new variable\n",
    "my_int_2 = my_int_1\n",
    "\n",
    "# Change the value of the original variable\n",
    "my_int_1 = 7\n",
    "\n",
    "# The first variable has the new value, while the second variable is still the original value\n",
    "print(my_int_1, my_int_2)"
   ]
  },
  {
   "cell_type": "markdown",
   "metadata": {},
   "source": [
    "**Something similar happens when you pass a value to a function. The arguments of a function are basically local variables that initally hold the values passed to the function.**"
   ]
  },
  {
   "cell_type": "code",
   "execution_count": 2,
   "metadata": {},
   "outputs": [
    {
     "name": "stdout",
     "output_type": "stream",
     "text": [
      "Value passed to the function: 5\n",
      "New value within the function: 10\n",
      "Outside of the function, the value is still 5\n"
     ]
    }
   ],
   "source": [
    "def print_an_int(an_int):\n",
    "    \n",
    "    print('Value passed to the function:', an_int)\n",
    "    \n",
    "    # Double the value passed\n",
    "    an_int = an_int * 2\n",
    "    \n",
    "    print('New value within the function:', an_int)\n",
    "    \n",
    "my_int = 5\n",
    "print_an_int(5)\n",
    "print('Outside of the function, the value is still', my_int)"
   ]
  },
  {
   "cell_type": "markdown",
   "metadata": {},
   "source": [
    "**Functions have their own scope. New variables created inside of a function are not available outside of that functin.**\n"
   ]
  },
  {
   "cell_type": "code",
   "execution_count": 3,
   "metadata": {},
   "outputs": [
    {
     "ename": "NameError",
     "evalue": "name 'new_local_variable' is not defined",
     "output_type": "error",
     "traceback": [
      "\u001b[0;31m---------------------------------------------------------------------------\u001b[0m",
      "\u001b[0;31mNameError\u001b[0m                                 Traceback (most recent call last)",
      "\u001b[0;32m<ipython-input-3-822a81b14187>\u001b[0m in \u001b[0;36m<module>\u001b[0;34m()\u001b[0m\n\u001b[1;32m      6\u001b[0m \u001b[0;34m\u001b[0m\u001b[0m\n\u001b[1;32m      7\u001b[0m \u001b[0;31m# This print statement will throw an error\u001b[0m\u001b[0;34m\u001b[0m\u001b[0;34m\u001b[0m\u001b[0m\n\u001b[0;32m----> 8\u001b[0;31m \u001b[0mprint\u001b[0m\u001b[0;34m(\u001b[0m\u001b[0;34m'Outside of the function, this variable does not exist'\u001b[0m\u001b[0;34m,\u001b[0m \u001b[0mnew_local_variable\u001b[0m\u001b[0;34m)\u001b[0m\u001b[0;34m\u001b[0m\u001b[0m\n\u001b[0m",
      "\u001b[0;31mNameError\u001b[0m: name 'new_local_variable' is not defined"
     ]
    }
   ],
   "source": [
    "def worthless_function(an_int):\n",
    "    new_local_variable = 5\n",
    "    \n",
    "my_int = 5\n",
    "worthless_function(my_int)\n",
    "\n",
    "# This print statement will throw an error\n",
    "print('Outside of the function, this variable does not exist', new_local_variable)"
   ]
  },
  {
   "cell_type": "markdown",
   "metadata": {},
   "source": [
    "**However, if a variable exists outside of a function, you can access it within the function.**"
   ]
  },
  {
   "cell_type": "code",
   "execution_count": 4,
   "metadata": {},
   "outputs": [
    {
     "name": "stdout",
     "output_type": "stream",
     "text": [
      "Before the function, the value is 5\n",
      "Functions can access global variables, this one has a value of: 5\n",
      "After the function, the value is still 5\n"
     ]
    }
   ],
   "source": [
    "def print_global_variable():\n",
    "    print('Functions can access global variables, this one has a value of:', my_int)\n",
    "\n",
    "my_int = 5\n",
    "\n",
    "print('Before the function, the value is', my_int)\n",
    "\n",
    "print_global_variable()\n",
    "\n",
    "print('After the function, the value is still', my_int)"
   ]
  },
  {
   "cell_type": "markdown",
   "metadata": {},
   "source": [
    "**Luckily, Python will not let a function change the value of a local variable**"
   ]
  },
  {
   "cell_type": "code",
   "execution_count": 5,
   "metadata": {},
   "outputs": [
    {
     "name": "stdout",
     "output_type": "stream",
     "text": [
      "Before the function, the value is 5\n"
     ]
    },
    {
     "ename": "UnboundLocalError",
     "evalue": "local variable 'my_int' referenced before assignment",
     "output_type": "error",
     "traceback": [
      "\u001b[0;31m---------------------------------------------------------------------------\u001b[0m",
      "\u001b[0;31mUnboundLocalError\u001b[0m                         Traceback (most recent call last)",
      "\u001b[0;32m<ipython-input-5-50f752984fc0>\u001b[0m in \u001b[0;36m<module>\u001b[0;34m()\u001b[0m\n\u001b[1;32m      7\u001b[0m \u001b[0;34m\u001b[0m\u001b[0m\n\u001b[1;32m      8\u001b[0m \u001b[0;31m# This will throw an error because functions can not change the value of global variables\u001b[0m\u001b[0;34m\u001b[0m\u001b[0;34m\u001b[0m\u001b[0m\n\u001b[0;32m----> 9\u001b[0;31m \u001b[0mtry_to_change_a_global_variable\u001b[0m\u001b[0;34m(\u001b[0m\u001b[0;34m)\u001b[0m\u001b[0;34m\u001b[0m\u001b[0m\n\u001b[0m",
      "\u001b[0;32m<ipython-input-5-50f752984fc0>\u001b[0m in \u001b[0;36mtry_to_change_a_global_variable\u001b[0;34m()\u001b[0m\n\u001b[1;32m      1\u001b[0m \u001b[0;32mdef\u001b[0m \u001b[0mtry_to_change_a_global_variable\u001b[0m\u001b[0;34m(\u001b[0m\u001b[0;34m)\u001b[0m\u001b[0;34m:\u001b[0m\u001b[0;34m\u001b[0m\u001b[0m\n\u001b[0;32m----> 2\u001b[0;31m     \u001b[0mmy_int\u001b[0m \u001b[0;34m=\u001b[0m \u001b[0mmy_int\u001b[0m \u001b[0;34m*\u001b[0m \u001b[0;36m2\u001b[0m\u001b[0;34m\u001b[0m\u001b[0m\n\u001b[0m\u001b[1;32m      3\u001b[0m \u001b[0;34m\u001b[0m\u001b[0m\n\u001b[1;32m      4\u001b[0m \u001b[0mmy_int\u001b[0m \u001b[0;34m=\u001b[0m \u001b[0;36m5\u001b[0m\u001b[0;34m\u001b[0m\u001b[0m\n\u001b[1;32m      5\u001b[0m \u001b[0;34m\u001b[0m\u001b[0m\n",
      "\u001b[0;31mUnboundLocalError\u001b[0m: local variable 'my_int' referenced before assignment"
     ]
    }
   ],
   "source": [
    "def try_to_change_a_global_variable():\n",
    "    my_int = my_int * 2\n",
    "\n",
    "my_int = 5\n",
    "\n",
    "print('Before the function, the value is', my_int)\n",
    "\n",
    "# This will throw an error because functions can not change the value of global variables\n",
    "try_to_change_a_global_variable()\n"
   ]
  },
  {
   "cell_type": "markdown",
   "metadata": {},
   "source": [
    "**My advice is to always explicitly pass all the values you want to access to a function.**"
   ]
  }
 ],
 "metadata": {
  "kernelspec": {
   "display_name": "Python 3",
   "language": "python",
   "name": "python3"
  },
  "language_info": {
   "codemirror_mode": {
    "name": "ipython",
    "version": 3
   },
   "file_extension": ".py",
   "mimetype": "text/x-python",
   "name": "python",
   "nbconvert_exporter": "python",
   "pygments_lexer": "ipython3",
   "version": "3.6.6"
  }
 },
 "nbformat": 4,
 "nbformat_minor": 2
}
