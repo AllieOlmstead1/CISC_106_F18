{
 "cells": [
  {
   "cell_type": "markdown",
   "metadata": {},
   "source": [
    "# Class Notebook from Aug. 30, 2018\n",
    "\n",
    "\n",
    "\n",
    "\n"
   ]
  },
  {
   "cell_type": "markdown",
   "metadata": {},
   "source": [
    "## First, some updates from Tuesday's notebook\n",
    "\n",
    "**I was asked how you can print the name of a variable, instead of the value held by the variable. Short answer, I don't think it is possible to print the name of a single variable (at least not programitically, you can always type `print('my_variable_name')`), but I forgot to mention the power of my favorite function, `dir()`, without any arguments.**"
   ]
  },
  {
   "cell_type": "code",
   "execution_count": 1,
   "metadata": {},
   "outputs": [
    {
     "data": {
      "text/plain": [
       "['In',\n",
       " 'Out',\n",
       " '_',\n",
       " '__',\n",
       " '___',\n",
       " '__builtin__',\n",
       " '__builtins__',\n",
       " '__doc__',\n",
       " '__loader__',\n",
       " '__name__',\n",
       " '__package__',\n",
       " '__spec__',\n",
       " '_dh',\n",
       " '_i',\n",
       " '_i1',\n",
       " '_ih',\n",
       " '_ii',\n",
       " '_iii',\n",
       " '_oh',\n",
       " 'exit',\n",
       " 'get_ipython',\n",
       " 'my_string',\n",
       " 'quit']"
      ]
     },
     "execution_count": 1,
     "metadata": {},
     "output_type": "execute_result"
    }
   ],
   "source": [
    "my_string = 'This is a string.'\n",
    "\n",
    "dir()"
   ]
  },
  {
   "cell_type": "markdown",
   "metadata": {},
   "source": [
    "**You can see `my_string` in the list above. Those are actually all of the variables in the current session. Don't worry about anything other than `my_string`, those are variables and functions used by Jupyter Notebooks. Also, these variables all get reset when you restart the kernel, and anything you definted no longer exists. **\n",
    "\n",
    "---\n",
    "\n",
    "**I was also asked about alternate ways to create lists, and I bungled that answer. I showed the `list()` function being called with a list inside of it, `list(['a', 'b', 'c'])`, which is kind of besides the point. I also made creating a list of numbers from 10 to 100 by 10's way too complicated. Recall that I used a comprehension:**\n",
    "```\n",
    "new_list = [i for i in range(10, 101, 10)]\n",
    "```\n",
    "**Well, this would have been the perfect thing to call the list function on:**"
   ]
  },
  {
   "cell_type": "code",
   "execution_count": 10,
   "metadata": {},
   "outputs": [
    {
     "data": {
      "text/plain": [
       "[10, 20, 30, 40, 50, 60, 70, 80, 90, 100]"
      ]
     },
     "execution_count": 10,
     "metadata": {},
     "output_type": "execute_result"
    }
   ],
   "source": [
    "new_list = list(range(10, 101, 10))\n",
    "\n",
    "new_list"
   ]
  },
  {
   "cell_type": "markdown",
   "metadata": {},
   "source": [
    "## On to the new stuff\n",
    "\n",
    "### Let's review data types \n"
   ]
  },
  {
   "cell_type": "code",
   "execution_count": 11,
   "metadata": {},
   "outputs": [
    {
     "data": {
      "text/plain": [
       "['This is a string', 5, 3.14, True]"
      ]
     },
     "execution_count": 11,
     "metadata": {},
     "output_type": "execute_result"
    }
   ],
   "source": [
    "my_string = 'This is a string'\n",
    "\n",
    "my_int = 5\n",
    "\n",
    "my_float = 3.14\n",
    "\n",
    "my_bool = True\n",
    "\n",
    "my_list = [my_string, my_int, my_float, my_bool]\n",
    "\n",
    "my_list"
   ]
  },
  {
   "cell_type": "markdown",
   "metadata": {},
   "source": [
    "### More information on variable names\n",
    "\n",
    "**As stated in the textbook, variable names can not start with a number, they must start with a letter. They also can not have spaces, hense the use_of_underscores and sometimesCamelCase. Do not use anything that is not a letter, underscore, or number -- and use numbers sparingly if at all.**"
   ]
  },
  {
   "cell_type": "code",
   "execution_count": null,
   "metadata": {},
   "outputs": [],
   "source": []
  },
  {
   "cell_type": "markdown",
   "metadata": {},
   "source": [
    "### Review of data conversions"
   ]
  },
  {
   "cell_type": "code",
   "execution_count": 14,
   "metadata": {},
   "outputs": [
    {
     "data": {
      "text/plain": [
       "5"
      ]
     },
     "execution_count": 14,
     "metadata": {},
     "output_type": "execute_result"
    }
   ],
   "source": [
    "\n",
    "my_new_int = int(5)\n",
    "\n",
    "my_new_int"
   ]
  },
  {
   "cell_type": "code",
   "execution_count": 16,
   "metadata": {},
   "outputs": [
    {
     "data": {
      "text/plain": [
       "3"
      ]
     },
     "execution_count": 16,
     "metadata": {},
     "output_type": "execute_result"
    }
   ],
   "source": [
    "int(3.14)"
   ]
  },
  {
   "cell_type": "code",
   "execution_count": 18,
   "metadata": {},
   "outputs": [
    {
     "data": {
      "text/plain": [
       "3"
      ]
     },
     "execution_count": 18,
     "metadata": {},
     "output_type": "execute_result"
    }
   ],
   "source": [
    "int(3.6)"
   ]
  },
  {
   "cell_type": "code",
   "execution_count": 20,
   "metadata": {},
   "outputs": [
    {
     "data": {
      "text/plain": [
       "4"
      ]
     },
     "execution_count": 20,
     "metadata": {},
     "output_type": "execute_result"
    }
   ],
   "source": [
    "round(3.6)"
   ]
  },
  {
   "cell_type": "code",
   "execution_count": 23,
   "metadata": {},
   "outputs": [
    {
     "data": {
      "text/plain": [
       "3.1"
      ]
     },
     "execution_count": 23,
     "metadata": {},
     "output_type": "execute_result"
    }
   ],
   "source": [
    "round(3.14, 1)"
   ]
  },
  {
   "cell_type": "markdown",
   "metadata": {},
   "source": [
    "---\n",
    "### The Python Standard Library: [4.1. Truth Value Testing](https://docs.python.org/3/library/stdtypes.html#truth)\n",
    "\n",
    "**We haven't gone over `while` loops yet, don't worry about them for now. We will focus on `if` statements today. Something is false if it's value is explicitly set to `False`, or if the value is 0, or if it is empty. Anything else is true.**\n",
    "\n",
    "**One reason I highly recommend having a second Python interpreter available while you are programming is so that you can quickly test out conditional statements like these to make sure they make sense to you.**\n",
    "\n",
    "\n"
   ]
  },
  {
   "cell_type": "code",
   "execution_count": 27,
   "metadata": {
    "scrolled": true
   },
   "outputs": [
    {
     "name": "stdout",
     "output_type": "stream",
     "text": [
      "False is False\n",
      "The empty string is false\n",
      "An empty list is false\n",
      "The number zero is false\n",
      "The number one is true\n",
      "The number negative one is also true\n",
      "True is obviously true\n",
      "A list with anything in it is true\n"
     ]
    }
   ],
   "source": [
    "if False:\n",
    "    print('This is not executed when the if statement is false')\n",
    "else:\n",
    "    print('False is False')\n",
    "    \n",
    "if '':\n",
    "    print('This is not executed when the if statement is false')\n",
    "else:\n",
    "    print('The empty string is false')\n",
    "\n",
    "if list():\n",
    "    print('This is not executed when the if statement is false')\n",
    "else:\n",
    "    print('An empty list is false')\n",
    "\n",
    "if 0:\n",
    "    print('This is not executed when the if statement is false')\n",
    "else:\n",
    "    print('The number zero is false')\n",
    "\n",
    "# True stements\n",
    "\n",
    "if 1:\n",
    "    print('The number one is true')\n",
    "\n",
    "if -1:\n",
    "    print('The number negative one is also true')\n",
    "    \n",
    "if True:\n",
    "    print('True is obviously true')\n",
    "\n",
    "if [False]:\n",
    "    print('A list with anything in it is true')"
   ]
  },
  {
   "cell_type": "markdown",
   "metadata": {},
   "source": [
    "\n",
    "### More with booleans\n",
    "\n",
    "**Let's link True and False together with `and` and `or`.**\n",
    "\n",
    "**In order for an `and` statement to be `True` then *all* individual elements need to be true. That also means that if *any* individual element is `False` then the `and` statement will be false.**\n",
    "\n",
    "**In order for an `or` statement to be `True` then *only one* individual element needs to be true.**\n"
   ]
  },
  {
   "cell_type": "code",
   "execution_count": 32,
   "metadata": {},
   "outputs": [
    {
     "name": "stdout",
     "output_type": "stream",
     "text": [
      "'True and True and True' is True\n",
      "'True or True' is True\n",
      "'True or False' is True\n"
     ]
    }
   ],
   "source": [
    "if True and True and True:\n",
    "    print(\"'True and True and True' is True\")  \n",
    "    \n",
    "if True and True and False:\n",
    "    print('This is not shown because it is false')\n",
    "    \n",
    "if True or True:\n",
    "    print(\"'True or True' is True\")\n",
    "    \n",
    "if True or False:\n",
    "    print(\"'True or False' is True\")\n",
    "\n"
   ]
  },
  {
   "cell_type": "markdown",
   "metadata": {},
   "source": [
    "### Order of Execution"
   ]
  },
  {
   "cell_type": "code",
   "execution_count": 34,
   "metadata": {},
   "outputs": [
    {
     "data": {
      "text/plain": [
       "36"
      ]
     },
     "execution_count": 34,
     "metadata": {},
     "output_type": "execute_result"
    }
   ],
   "source": [
    "2 * 3 + 5 * 6"
   ]
  },
  {
   "cell_type": "code",
   "execution_count": 36,
   "metadata": {},
   "outputs": [
    {
     "data": {
      "text/plain": [
       "36"
      ]
     },
     "execution_count": 36,
     "metadata": {},
     "output_type": "execute_result"
    }
   ],
   "source": [
    "# These parenthesis explicitly show the order of execution from above\n",
    "(2 * 3) + (5 * 6)"
   ]
  },
  {
   "cell_type": "code",
   "execution_count": 37,
   "metadata": {},
   "outputs": [],
   "source": [
    "if (True or False) and (True and False):\n",
    "    print('This is not shown because it is false')\n"
   ]
  },
  {
   "cell_type": "code",
   "execution_count": 38,
   "metadata": {},
   "outputs": [
    {
     "name": "stdout",
     "output_type": "stream",
     "text": [
      "'(True or False) and (True)' is True\n"
     ]
    }
   ],
   "source": [
    "if (True or False) and (True):\n",
    "    print(\"'(True or False) and (True)' is True\")\n"
   ]
  }
 ],
 "metadata": {
  "kernelspec": {
   "display_name": "Python 3",
   "language": "python",
   "name": "python3"
  },
  "language_info": {
   "codemirror_mode": {
    "name": "ipython",
    "version": 3
   },
   "file_extension": ".py",
   "mimetype": "text/x-python",
   "name": "python",
   "nbconvert_exporter": "python",
   "pygments_lexer": "ipython3",
   "version": "3.6.5"
  }
 },
 "nbformat": 4,
 "nbformat_minor": 2
}
