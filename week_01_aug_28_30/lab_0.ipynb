{
 "cells": [
  {
   "cell_type": "markdown",
   "metadata": {},
   "source": [
    "# Lab 0\n",
    "\n",
    "[![Binder](https://mybinder.org/badge.svg)](https://mybinder.org/v2/gh/enactdev/CISC_106_F18/master?filepath=week_01_aug_28_30/lab_0.ipynb)\n",
    "\n",
    "\n",
    "**The purpose of this 5-question lab is to show that you can run a Python Notebook on your own. You will submit \n",
    "a screenshot of this lab on Canvas. You can run this notebook in mybinder.com by clicking\n",
    "the button on GitHub, run it in Microsoft Azure, or run it on your own computer with Anaconda.**\n",
    "\n",
    "**For both Azure and Anaconda, you will need to download the raw JSON, *not* the rendered version. \n",
    "To download the raw file, first open the file in GitHub. Then right-click the \"Raw\" button and select \"Save Link As\". For Anaconda, move the file to your notebook directory to run it. For Azure, you'll first have to create a library. Call it something like 'CISC106.' Then click \"+ New,\" select \"From Computer\" and upload the notebook. Then you can click it to run. (On Azure you can also import my entire GitHub repository as a library.)**\n",
    "\n",
    "**Note on screenshots: If you do not know how to create a screenshot, google either \"screenshot OSX\" \n",
    "or \"screenshot Windows\". Before you create the screenshot, make the browser full screen (View -> 'Enter \n",
    "Full Screen' in both Chrome and Firefox)**\n",
    "                                                                                         "
   ]
  },
  {
   "cell_type": "markdown",
   "metadata": {},
   "source": [
    "#### Qustion 1: Assign your name to the variable `my_name` and print it out"
   ]
  },
  {
   "cell_type": "code",
   "execution_count": 1,
   "metadata": {},
   "outputs": [
    {
     "data": {
      "text/plain": [
       "''"
      ]
     },
     "execution_count": 1,
     "metadata": {},
     "output_type": "execute_result"
    }
   ],
   "source": [
    "my_name = ''\n",
    "\n",
    "my_name"
   ]
  },
  {
   "cell_type": "markdown",
   "metadata": {},
   "source": [
    "#### Question 2: Print the length of your name (including spaces)"
   ]
  },
  {
   "cell_type": "code",
   "execution_count": 2,
   "metadata": {},
   "outputs": [],
   "source": [
    "# Print length below\n"
   ]
  },
  {
   "cell_type": "markdown",
   "metadata": {},
   "source": [
    "#### Question 3: Assign your lab partner's name to the variable `partner_name` and print it out"
   ]
  },
  {
   "cell_type": "code",
   "execution_count": 3,
   "metadata": {},
   "outputs": [],
   "source": [
    "# Assign and print your lab partner's name below\n"
   ]
  },
  {
   "cell_type": "markdown",
   "metadata": {},
   "source": [
    "#### Question 4: Print both of your names in this sentance: \"My name is ______ and my partner's name is ______\""
   ]
  },
  {
   "cell_type": "code",
   "execution_count": 4,
   "metadata": {},
   "outputs": [],
   "source": [
    "# Print the sentence below. Remember that you can combine strings with the + operator\n"
   ]
  },
  {
   "cell_type": "markdown",
   "metadata": {},
   "source": [
    "#### Question 5  Final question: The statement below is not very readable.\n",
    "#### Add parenthesis around the following statement while mainaining the same order-of-operations\n",
    "```\n",
    "5 * 6 + 7 * 8 + 2\n",
    "```"
   ]
  },
  {
   "cell_type": "code",
   "execution_count": 5,
   "metadata": {},
   "outputs": [
    {
     "data": {
      "text/plain": [
       "88"
      ]
     },
     "execution_count": 5,
     "metadata": {},
     "output_type": "execute_result"
    }
   ],
   "source": [
    "# Add parenthesis to this expression while maintaining the same order-of-operations. \n",
    "# You can refer to chapter 2.9 in the book. \n",
    "\n",
    "5 * 6 + 7 * 8 + 2"
   ]
  }
 ],
 "metadata": {
  "kernelspec": {
   "display_name": "Python 3",
   "language": "python",
   "name": "python3"
  },
  "language_info": {
   "codemirror_mode": {
    "name": "ipython",
    "version": 3
   },
   "file_extension": ".py",
   "mimetype": "text/x-python",
   "name": "python",
   "nbconvert_exporter": "python",
   "pygments_lexer": "ipython3",
   "version": "3.6.5"
  }
 },
 "nbformat": 4,
 "nbformat_minor": 2
}
