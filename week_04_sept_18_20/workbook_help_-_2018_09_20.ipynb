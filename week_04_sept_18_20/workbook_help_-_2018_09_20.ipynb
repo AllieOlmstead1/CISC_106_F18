{
 "cells": [
  {
   "cell_type": "markdown",
   "metadata": {},
   "source": [
    "# Help for the in-class workbook from September 20, 2018\n",
    "\n",
    "[![Binder](https://mybinder.org/badge.svg)](https://mybinder.org/v2/gh/enactdev/CISC_106_F18/master?filepath=week_04_sept_18_20/workbook_help_-_2018_09_20.ipynb)\n",
    "\n",
    "**I did not explain the isnumeric() method very well! Sorry.**\n",
    "\n",
    "**A lot of you did something like this, which I had never seen before:**"
   ]
  },
  {
   "cell_type": "code",
   "execution_count": 1,
   "metadata": {},
   "outputs": [
    {
     "name": "stdout",
     "output_type": "stream",
     "text": [
      "Yes, that string is numeric\n"
     ]
    }
   ],
   "source": [
    "if str.isnumeric('19'):\n",
    "    print('Yes, that string is numeric')"
   ]
  },
  {
   "cell_type": "markdown",
   "metadata": {},
   "source": [
    "**But I was expecting this:**"
   ]
  },
  {
   "cell_type": "code",
   "execution_count": 2,
   "metadata": {},
   "outputs": [
    {
     "name": "stdout",
     "output_type": "stream",
     "text": [
      "Enter an age: 19\n",
      "Yes, that string is numeric\n"
     ]
    }
   ],
   "source": [
    "user_age = input('Enter an age: ')\n",
    "\n",
    "if user_age.isnumeric():\n",
    "    print('Yes, that string is numeric')\n"
   ]
  },
  {
   "cell_type": "markdown",
   "metadata": {},
   "source": [
    "**I'm actually surprised the first way works.**\n",
    "\n",
    "**We will cover methods more in class. Basically, they are functions that are attached to an object. If you used ```str.isnumeric(user_age)``` please change it to my way. It will make things easier for you later.**"
   ]
  },
  {
   "cell_type": "markdown",
   "metadata": {},
   "source": [
    "---\n",
    "\n",
    "\n",
    "# Also:\n",
    "\n",
    "**I should have combined the cell that inputs an age and the cell that converts it to an integer into the same cell. The reason is that if you run the conversion cell twice you will get an error the second time. Here's why:**"
   ]
  },
  {
   "cell_type": "code",
   "execution_count": 3,
   "metadata": {},
   "outputs": [],
   "source": [
    "# Set user_age to a number in string quotes\n",
    "user_age = '19'"
   ]
  },
  {
   "cell_type": "code",
   "execution_count": 4,
   "metadata": {},
   "outputs": [
    {
     "data": {
      "text/plain": [
       "str"
      ]
     },
     "execution_count": 4,
     "metadata": {},
     "output_type": "execute_result"
    }
   ],
   "source": [
    "# Check the type:\n",
    "type(user_age)"
   ]
  },
  {
   "cell_type": "code",
   "execution_count": 5,
   "metadata": {},
   "outputs": [
    {
     "data": {
      "text/plain": [
       "int"
      ]
     },
     "execution_count": 5,
     "metadata": {},
     "output_type": "execute_result"
    }
   ],
   "source": [
    "# Test to see if it's numeric, and if so then convert it to an integer:\n",
    "if user_age.isnumeric():\n",
    "    user_age = int(user_age)\n",
    "    \n",
    "# Check the type again:\n",
    "type(user_age)"
   ]
  },
  {
   "cell_type": "markdown",
   "metadata": {},
   "source": [
    "**Now ```user_age``` is an integer! If you re-run the cell again, you will get an error, because isnumeric() is a string method, not an integer method. I'll show you the error just so you're clear:**"
   ]
  },
  {
   "cell_type": "code",
   "execution_count": 6,
   "metadata": {},
   "outputs": [
    {
     "ename": "AttributeError",
     "evalue": "'int' object has no attribute 'isnumeric'",
     "output_type": "error",
     "traceback": [
      "\u001b[0;31m---------------------------------------------------------------------------\u001b[0m",
      "\u001b[0;31mAttributeError\u001b[0m                            Traceback (most recent call last)",
      "\u001b[0;32m<ipython-input-6-048cbb9b0cca>\u001b[0m in \u001b[0;36m<module>\u001b[0;34m()\u001b[0m\n\u001b[0;32m----> 1\u001b[0;31m \u001b[0muser_age\u001b[0m\u001b[0;34m.\u001b[0m\u001b[0misnumeric\u001b[0m\u001b[0;34m(\u001b[0m\u001b[0;34m)\u001b[0m\u001b[0;34m\u001b[0m\u001b[0m\n\u001b[0m",
      "\u001b[0;31mAttributeError\u001b[0m: 'int' object has no attribute 'isnumeric'"
     ]
    }
   ],
   "source": [
    "user_age.isnumeric()"
   ]
  },
  {
   "cell_type": "markdown",
   "metadata": {},
   "source": [
    "**This would not have been an issue if I had just combined all the code into a single cell:**"
   ]
  },
  {
   "cell_type": "code",
   "execution_count": 7,
   "metadata": {},
   "outputs": [
    {
     "data": {
      "text/plain": [
       "int"
      ]
     },
     "execution_count": 7,
     "metadata": {},
     "output_type": "execute_result"
    }
   ],
   "source": [
    "user_age = '19'\n",
    "\n",
    "if user_age.isnumeric():\n",
    "    user_age = int(user_age)\n",
    "    \n",
    "type(user_age)"
   ]
  },
  {
   "cell_type": "markdown",
   "metadata": {},
   "source": [
    "**Feel free to combine the code into a single cell in your notebook.**\n",
    "\n",
    "---\n",
    "\n",
    "**Likewise, I should not have left some empty cells after setting ```top_of_hill``` and ```height``` varaibles for you. If your ```while``` loop is in a different cell then it will not run the same after the first time, because your ```while``` loop changes the value of the ```height``` variable.**"
   ]
  },
  {
   "cell_type": "code",
   "execution_count": 8,
   "metadata": {},
   "outputs": [],
   "source": [
    "# Jack and Jill are thirsty, but the water is at the top of the hill. \n",
    "# The top of the hill is 123 feet\n",
    "top_of_hill = 123\n",
    "\n",
    "# Jack and Jill are at the bottom\n",
    "height = 0\n",
    "\n",
    "# Write a while loop that increments height by one each iteration, and every 10 feet it prints the message:\n",
    "# 'Good job, you are currently at ___ feet' where ___ is their current height.\n",
    "\n",
    "# Put your while loop here and not in one of the extra cells I left!"
   ]
  },
  {
   "cell_type": "markdown",
   "metadata": {},
   "source": [
    "\n",
    "---\n",
    "\n",
    "**Note on printing strings. Some of you have realized that you can send multiple parameters to the print() function, and it will combine them for you:**"
   ]
  },
  {
   "cell_type": "code",
   "execution_count": 9,
   "metadata": {},
   "outputs": [
    {
     "name": "stdout",
     "output_type": "stream",
     "text": [
      "You can pass strings like this one, integers like 19 and floats like 3.14 as parameters.\n"
     ]
    }
   ],
   "source": [
    "print('You can pass strings like this one, integers like', 19, 'and floats like', 3.14, 'as parameters.')"
   ]
  },
  {
   "cell_type": "markdown",
   "metadata": {},
   "source": [
    "**Or, you can pass a single string to print() that is made up of multiple strings.**"
   ]
  },
  {
   "cell_type": "code",
   "execution_count": 10,
   "metadata": {},
   "outputs": [
    {
     "name": "stdout",
     "output_type": "stream",
     "text": [
      "I am combining this sentence. With this one.\n"
     ]
    }
   ],
   "source": [
    "print('I am combining this sentence. ' + 'With this one.')"
   ]
  },
  {
   "cell_type": "markdown",
   "metadata": {},
   "source": [
    "**But, while the first example will convert integers and floats to a string for you, the second one will not.**"
   ]
  },
  {
   "cell_type": "code",
   "execution_count": 11,
   "metadata": {},
   "outputs": [
    {
     "ename": "TypeError",
     "evalue": "must be str, not int",
     "output_type": "error",
     "traceback": [
      "\u001b[0;31m---------------------------------------------------------------------------\u001b[0m",
      "\u001b[0;31mTypeError\u001b[0m                                 Traceback (most recent call last)",
      "\u001b[0;32m<ipython-input-11-8042d163c726>\u001b[0m in \u001b[0;36m<module>\u001b[0;34m()\u001b[0m\n\u001b[0;32m----> 1\u001b[0;31m \u001b[0mprint\u001b[0m\u001b[0;34m(\u001b[0m\u001b[0;34m'The year is '\u001b[0m \u001b[0;34m+\u001b[0m \u001b[0;36m2018\u001b[0m\u001b[0;34m)\u001b[0m\u001b[0;34m\u001b[0m\u001b[0m\n\u001b[0m",
      "\u001b[0;31mTypeError\u001b[0m: must be str, not int"
     ]
    }
   ],
   "source": [
    "print('The year is ' + 2018)"
   ]
  },
  {
   "cell_type": "markdown",
   "metadata": {},
   "source": [
    "**You need to convert to a string yourself.**"
   ]
  },
  {
   "cell_type": "code",
   "execution_count": 12,
   "metadata": {},
   "outputs": [
    {
     "name": "stdout",
     "output_type": "stream",
     "text": [
      "The year is 2018\n"
     ]
    }
   ],
   "source": [
    "print('The year is ' + str(2018))"
   ]
  },
  {
   "cell_type": "markdown",
   "metadata": {},
   "source": [
    "\n",
    "---\n",
    "\n",
    "**Note on the is_odd() function I asked you to write: Can you create it by copying the is_even() function and adding a single operator? (The operator in this instance is a word.)**"
   ]
  }
 ],
 "metadata": {
  "kernelspec": {
   "display_name": "Python 3",
   "language": "python",
   "name": "python3"
  },
  "language_info": {
   "codemirror_mode": {
    "name": "ipython",
    "version": 3
   },
   "file_extension": ".py",
   "mimetype": "text/x-python",
   "name": "python",
   "nbconvert_exporter": "python",
   "pygments_lexer": "ipython3",
   "version": "3.6.5"
  }
 },
 "nbformat": 4,
 "nbformat_minor": 2
}
