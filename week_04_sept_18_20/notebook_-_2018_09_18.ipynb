{
 "cells": [
  {
   "cell_type": "markdown",
   "metadata": {},
   "source": [
    "# Class notebook, September 18, 2018\n",
    "\n",
    "**First, let's review the iClicker questions, which use [httlacs: Operator precedence table](http://interactivepython.org/runestone/static/CS152f17/Appendices/PrecedenceTable.html)**\n",
    "\n",
    "**Add parenthesis to the following while maintining precedence:**\n",
    "\n",
    "```\n",
    "7 * 6 + 8 // 3 * 2\n",
    "```"
   ]
  },
  {
   "cell_type": "code",
   "execution_count": 1,
   "metadata": {},
   "outputs": [
    {
     "data": {
      "text/plain": [
       "46"
      ]
     },
     "execution_count": 1,
     "metadata": {},
     "output_type": "execute_result"
    }
   ],
   "source": [
    "# Origninal\n",
    "7 * 6 + 8 // 3 * 2"
   ]
  },
  {
   "cell_type": "code",
   "execution_count": 2,
   "metadata": {},
   "outputs": [
    {
     "data": {
      "text/plain": [
       "46"
      ]
     },
     "execution_count": 2,
     "metadata": {},
     "output_type": "execute_result"
    }
   ],
   "source": [
    "# First pass, left to right, * and // have same precedence\n",
    "(7 * 6) + 8 // 3 * 2"
   ]
  },
  {
   "cell_type": "code",
   "execution_count": 3,
   "metadata": {},
   "outputs": [
    {
     "data": {
      "text/plain": [
       "46"
      ]
     },
     "execution_count": 3,
     "metadata": {},
     "output_type": "execute_result"
    }
   ],
   "source": [
    "# Second pass, left to right\n",
    "(7 * 6) + (8 // 3) * 2"
   ]
  },
  {
   "cell_type": "code",
   "execution_count": 4,
   "metadata": {},
   "outputs": [
    {
     "data": {
      "text/plain": [
       "46"
      ]
     },
     "execution_count": 4,
     "metadata": {},
     "output_type": "execute_result"
    }
   ],
   "source": [
    "# Third pass\n",
    "(7 * 6) + ((8 // 3) * 2)"
   ]
  },
  {
   "cell_type": "code",
   "execution_count": 5,
   "metadata": {},
   "outputs": [
    {
     "data": {
      "text/plain": [
       "64"
      ]
     },
     "execution_count": 5,
     "metadata": {},
     "output_type": "execute_result"
    }
   ],
   "source": [
    "# Incorect A\n",
    "((7 * (6 + 8)) // 3) * 2"
   ]
  },
  {
   "cell_type": "code",
   "execution_count": 6,
   "metadata": {},
   "outputs": [
    {
     "data": {
      "text/plain": [
       "14"
      ]
     },
     "execution_count": 6,
     "metadata": {},
     "output_type": "execute_result"
    }
   ],
   "source": [
    "# Incorect B\n",
    "7 * ((6 + 8) // (3 * 2))"
   ]
  },
  {
   "cell_type": "code",
   "execution_count": 7,
   "metadata": {},
   "outputs": [
    {
     "data": {
      "text/plain": [
       "43"
      ]
     },
     "execution_count": 7,
     "metadata": {},
     "output_type": "execute_result"
    }
   ],
   "source": [
    "# Incorect C\n",
    "(7 * 6) + (8 // (3 * 2))"
   ]
  },
  {
   "cell_type": "markdown",
   "metadata": {},
   "source": [
    "---\n",
    "\n",
    "**Add parenthesis to the following while maintining precedence:**\n",
    "\n",
    "```\n",
    "True or False and False or True\n",
    "```"
   ]
  },
  {
   "cell_type": "code",
   "execution_count": 13,
   "metadata": {},
   "outputs": [
    {
     "data": {
      "text/plain": [
       "True"
      ]
     },
     "execution_count": 13,
     "metadata": {},
     "output_type": "execute_result"
    }
   ],
   "source": [
    "# Oiginal\n",
    "True or False and False or True"
   ]
  },
  {
   "cell_type": "code",
   "execution_count": 14,
   "metadata": {},
   "outputs": [
    {
     "data": {
      "text/plain": [
       "True"
      ]
     },
     "execution_count": 14,
     "metadata": {},
     "output_type": "execute_result"
    }
   ],
   "source": [
    "# First Pass\n",
    "True or (False and False) or True"
   ]
  },
  {
   "cell_type": "code",
   "execution_count": 15,
   "metadata": {},
   "outputs": [
    {
     "data": {
      "text/plain": [
       "True"
      ]
     },
     "execution_count": 15,
     "metadata": {},
     "output_type": "execute_result"
    }
   ],
   "source": [
    "# Second Pass\n",
    "(True or (False and False)) or True"
   ]
  },
  {
   "cell_type": "markdown",
   "metadata": {},
   "source": [
    "---\n",
    "\n",
    "**Note on syntax error: It often shows where the error is.**"
   ]
  },
  {
   "cell_type": "code",
   "execution_count": 1,
   "metadata": {},
   "outputs": [
    {
     "ename": "SyntaxError",
     "evalue": "invalid syntax (<ipython-input-1-5e93fe119adf>, line 1)",
     "output_type": "error",
     "traceback": [
      "\u001b[0;36m  File \u001b[0;32m\"<ipython-input-1-5e93fe119adf>\"\u001b[0;36m, line \u001b[0;32m1\u001b[0m\n\u001b[0;31m    3 2 %\u001b[0m\n\u001b[0m      ^\u001b[0m\n\u001b[0;31mSyntaxError\u001b[0m\u001b[0;31m:\u001b[0m invalid syntax\n"
     ]
    }
   ],
   "source": [
    "3 2 %"
   ]
  },
  {
   "cell_type": "code",
   "execution_count": 2,
   "metadata": {},
   "outputs": [
    {
     "ename": "SyntaxError",
     "evalue": "invalid syntax (<ipython-input-2-6c819e66f5dc>, line 2)",
     "output_type": "error",
     "traceback": [
      "\u001b[0;36m  File \u001b[0;32m\"<ipython-input-2-6c819e66f5dc>\"\u001b[0;36m, line \u001b[0;32m2\u001b[0m\n\u001b[0;31m    if True\u001b[0m\n\u001b[0m           ^\u001b[0m\n\u001b[0;31mSyntaxError\u001b[0m\u001b[0;31m:\u001b[0m invalid syntax\n"
     ]
    }
   ],
   "source": [
    "# Don't forget the colon:\n",
    "if True\n",
    "    print('True')"
   ]
  },
  {
   "cell_type": "markdown",
   "metadata": {},
   "source": [
    "---\n",
    "\n",
    "**Based on how you write the conditinal statement, you can change what is in the ```if``` vs. ```else``` blocks. Example:***"
   ]
  },
  {
   "cell_type": "code",
   "execution_count": 16,
   "metadata": {},
   "outputs": [
    {
     "data": {
      "text/plain": [
       "True"
      ]
     },
     "execution_count": 16,
     "metadata": {},
     "output_type": "execute_result"
    }
   ],
   "source": [
    "cisc_106 = 'fun'\n",
    "cisc_106 == 'fun'"
   ]
  },
  {
   "cell_type": "code",
   "execution_count": 17,
   "metadata": {},
   "outputs": [
    {
     "data": {
      "text/plain": [
       "False"
      ]
     },
     "execution_count": 17,
     "metadata": {},
     "output_type": "execute_result"
    }
   ],
   "source": [
    "cisc_106 != 'fun'"
   ]
  },
  {
   "cell_type": "code",
   "execution_count": 18,
   "metadata": {},
   "outputs": [
    {
     "name": "stdout",
     "output_type": "stream",
     "text": [
      "This class is fun\n"
     ]
    }
   ],
   "source": [
    "if cisc_106 == 'fun':\n",
    "    print('This class is fun')\n",
    "else:\n",
    "    print('This class is not fun')"
   ]
  },
  {
   "cell_type": "code",
   "execution_count": 19,
   "metadata": {},
   "outputs": [
    {
     "name": "stdout",
     "output_type": "stream",
     "text": [
      "This class is fun\n"
     ]
    }
   ],
   "source": [
    "if cisc_106 != 'fun':\n",
    "    print('This class is not fun')\n",
    "else:\n",
    "    print('This class is fun')"
   ]
  },
  {
   "cell_type": "markdown",
   "metadata": {},
   "source": [
    "**I will generally make whichever code block is shorter go first. I will point this out when it comes up.**\n",
    "\n",
    "---\n",
    "\n",
    "**Let's write a function that calculates the cost of admission to an amusement park.**\n",
    "\n",
    "* Admission for anyone under age 4 is free.\n",
    "* Admission for anyone between the ages of 4 and 18 is \\$20.\n",
    "* Admission for anyone age 18 or older is \\$35.\n",
    "\n",
    "\n",
    "**The starter code for a function design recipe is below**\n"
   ]
  },
  {
   "cell_type": "code",
   "execution_count": 20,
   "metadata": {},
   "outputs": [
    {
     "data": {
      "text/plain": [
       "20"
      ]
     },
     "execution_count": 20,
     "metadata": {},
     "output_type": "execute_result"
    }
   ],
   "source": [
    "def calculate_admission(age):\n",
    "    \"\"\"\n",
    "    Calculates the admission depending on the age of the customer.\n",
    "    Parameters:\n",
    "        age (int)\n",
    "    Returns:\n",
    "        price (int)\n",
    "    \"\"\"\n",
    "    \n",
    "    # Generally you want to set your return variable to an initial value\n",
    "    # You do not always have to set this\n",
    "    price = 0\n",
    "    \"\"\"\n",
    "    Admission for anyone under age 4 is free.\n",
    "    Admission for anyone between the ages of 4 and 18 is $20.\n",
    "    Admission for anyone age 18 or older is $35.\n",
    "    \"\"\"\n",
    "    # Calculate price\n",
    "    if age < 4:\n",
    "        price = 0\n",
    "    elif (age >= 4) and (age < 18):\n",
    "        price = 20\n",
    "    else:\n",
    "        price = 35\n",
    "\n",
    "    # Don't forget to return a value!\n",
    "    return price\n",
    "\n",
    "\n",
    "# Write test cases for your function. Write at least 3 asserts.\n",
    "\n",
    "assert calculate_admission(3) == 0\n",
    "assert calculate_admission(6) == 20\n",
    "assert calculate_admission(19) == 35\n",
    "\n",
    "calculate_admission(6)"
   ]
  },
  {
   "cell_type": "code",
   "execution_count": null,
   "metadata": {},
   "outputs": [],
   "source": []
  },
  {
   "cell_type": "markdown",
   "metadata": {},
   "source": [
    "**Let's update the function with a senior discount. Anyone 65 or older pays half the regular admission, or \\$17.50**\n"
   ]
  },
  {
   "cell_type": "code",
   "execution_count": 27,
   "metadata": {},
   "outputs": [
    {
     "data": {
      "text/plain": [
       "17.5"
      ]
     },
     "execution_count": 27,
     "metadata": {},
     "output_type": "execute_result"
    }
   ],
   "source": [
    "def calculate_admission(age):\n",
    "    \"\"\"\n",
    "    Calculates the admission depending on the age of the customer.\n",
    "    Parameters:\n",
    "        age (int)\n",
    "    Returns:\n",
    "        price (float)\n",
    "    \"\"\"\n",
    "    \n",
    "    # Generally you want to set your return variable to an initial value\n",
    "    # You do not always have to set this\n",
    "    price = 0\n",
    "    \"\"\"\n",
    "    Admission for anyone under age 4 is free.\n",
    "    Admission for anyone between the ages of 4 and 18 is $20.\n",
    "    Admission for anyone age 18 or older is $35.\n",
    "    Admission for seniors >= 65 is $17.5\n",
    "    \"\"\"\n",
    "    # Calculate price\n",
    "    if age < 4:\n",
    "        price = 0\n",
    "    elif (age >= 4) and (age < 18):\n",
    "        price = 20\n",
    "    elif (age >= 65):\n",
    "        price = 17.5\n",
    "    elif (age >= 18) and (age < 65):\n",
    "        price = 35\n",
    "\n",
    "    # Don't forget to return a value!\n",
    "    return price\n",
    "\n",
    "\n",
    "# Write test cases for your function. Write at least 3 asserts.\n",
    "\n",
    "assert calculate_admission(3) == 0\n",
    "assert calculate_admission(6) == 20\n",
    "assert calculate_admission(19) == 35\n",
    "assert calculate_admission(72) == 17.5\n",
    "\n",
    "calculate_admission(72)"
   ]
  },
  {
   "cell_type": "code",
   "execution_count": null,
   "metadata": {},
   "outputs": [],
   "source": []
  }
 ],
 "metadata": {
  "kernelspec": {
   "display_name": "Python 3",
   "language": "python",
   "name": "python3"
  },
  "language_info": {
   "codemirror_mode": {
    "name": "ipython",
    "version": 3
   },
   "file_extension": ".py",
   "mimetype": "text/x-python",
   "name": "python",
   "nbconvert_exporter": "python",
   "pygments_lexer": "ipython3",
   "version": "3.6.5"
  }
 },
 "nbformat": 4,
 "nbformat_minor": 2
}
