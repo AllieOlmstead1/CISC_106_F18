{
 "cells": [
  {
   "cell_type": "code",
   "execution_count": null,
   "metadata": {},
   "outputs": [],
   "source": []
  },
  {
   "cell_type": "code",
   "execution_count": null,
   "metadata": {},
   "outputs": [],
   "source": []
  },
  {
   "cell_type": "code",
   "execution_count": null,
   "metadata": {},
   "outputs": [],
   "source": []
  },
  {
   "cell_type": "code",
   "execution_count": null,
   "metadata": {},
   "outputs": [],
   "source": []
  },
  {
   "cell_type": "markdown",
   "metadata": {},
   "source": [
    "**Let's write a function that calculates the cost of admission to an amusement park.**\n",
    "\n",
    "* Admission for anyone under age 4 is free.\n",
    "* Admission for anyone between the ages of 4 and 18 is \\$20.\n",
    "* Admission for anyone age 18 or older is \\$35.\n",
    "\n",
    "\n",
    "**The starter code for a function design recipe is below**\n"
   ]
  },
  {
   "cell_type": "code",
   "execution_count": null,
   "metadata": {},
   "outputs": [],
   "source": [
    "\n",
    "\n",
    "def my_function(a_var1, a_var2):\n",
    "    \"\"\"\n",
    "    Description of function, start the sentence with a verb.\n",
    "    Parameters:\n",
    "        a_var1 (type)\n",
    "        a_var2 (type)\n",
    "    Returns:\n",
    "        return_variable_name (type)\n",
    "    \"\"\"\n",
    "    \n",
    "    # Generally you want to set your return variable to an initial value\n",
    "    # You do not always have to set this\n",
    "    return_variable_name = ''\n",
    "    \n",
    "    # Do some things here\n",
    "\n",
    "    # Don't forget to return a value!\n",
    "    return return_variable_name\n",
    "\n",
    "\n",
    "# Write test cases for your function. Write at least 3 asserts.\n",
    "assert my_function(my_var1, my_var2) == \n",
    "assert my_function(my_var3, my_var4) == \n",
    "assert my_function(my_var5, my_var6) ==\n",
    "\n"
   ]
  },
  {
   "cell_type": "code",
   "execution_count": null,
   "metadata": {},
   "outputs": [],
   "source": []
  },
  {
   "cell_type": "markdown",
   "metadata": {},
   "source": [
    "**Let's update the function with a senior discount. Anyone 65 or older pays half the regular admission, or \\$17.50**\n"
   ]
  },
  {
   "cell_type": "code",
   "execution_count": null,
   "metadata": {},
   "outputs": [],
   "source": []
  }
 ],
 "metadata": {
  "kernelspec": {
   "display_name": "Python 3",
   "language": "python",
   "name": "python3"
  },
  "language_info": {
   "codemirror_mode": {
    "name": "ipython",
    "version": 3
   },
   "file_extension": ".py",
   "mimetype": "text/x-python",
   "name": "python",
   "nbconvert_exporter": "python",
   "pygments_lexer": "ipython3",
   "version": "3.6.5"
  }
 },
 "nbformat": 4,
 "nbformat_minor": 2
}
