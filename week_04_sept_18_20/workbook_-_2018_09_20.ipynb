{
 "cells": [
  {
   "cell_type": "markdown",
   "metadata": {},
   "source": [
    "# In-class workbook for September 20, 2018\n",
    "\n",
    "## Let's start with some easy ones\n",
    "\n",
    "**Use the input() function to prompt the user for their age. Assign it to the variable ```user_age```**"
   ]
  },
  {
   "cell_type": "code",
   "execution_count": null,
   "metadata": {},
   "outputs": [],
   "source": []
  },
  {
   "cell_type": "markdown",
   "metadata": {},
   "source": [
    "**Use an ```if``` statement and the string method isnumeric() to make sure the user entered in integer. If so, convert the string input to an integer. If not then use the print() function to tell the user to go back and try again.**\n",
    "\n",
    "**Reminder: You can run any cell in a notebook in any order. Run the cell by clicking the \"> Run\" button above, or press Shift+Enter**"
   ]
  },
  {
   "cell_type": "code",
   "execution_count": null,
   "metadata": {},
   "outputs": [],
   "source": []
  },
  {
   "cell_type": "markdown",
   "metadata": {},
   "source": [
    "**Now test the users age to see if they are old enough to vote. If they are old enough, use the input() function again to ask if they are going to vote. If they are not old enough, then tell them you hope they vote in the future once they can.**"
   ]
  },
  {
   "cell_type": "code",
   "execution_count": null,
   "metadata": {},
   "outputs": [],
   "source": []
  },
  {
   "cell_type": "markdown",
   "metadata": {},
   "source": []
  },
  {
   "cell_type": "code",
   "execution_count": null,
   "metadata": {},
   "outputs": [],
   "source": []
  },
  {
   "cell_type": "code",
   "execution_count": null,
   "metadata": {},
   "outputs": [],
   "source": []
  },
  {
   "cell_type": "code",
   "execution_count": null,
   "metadata": {},
   "outputs": [],
   "source": []
  },
  {
   "cell_type": "markdown",
   "metadata": {},
   "source": [
    "**Below is a function is_even() that we created in-class to test if a number is even. Change the function name to 'is_evenly_divisible' and update the function to accept a second paramater (give it a good name) and return whether the first number is evenly divisible by the second number. Update the four test cases and the function Docstring to reflect the new function.**\n",
    "\n",
    "**For instance, this would be a successful test case, and no you may not use it as one of the four:**\n",
    "\n",
    "```\n",
    "assert is_evenly_divisible(9, 3) == True\n",
    "```"
   ]
  },
  {
   "cell_type": "code",
   "execution_count": 11,
   "metadata": {},
   "outputs": [
    {
     "data": {
      "text/plain": [
       "False"
      ]
     },
     "execution_count": 11,
     "metadata": {},
     "output_type": "execute_result"
    }
   ],
   "source": [
    "def is_evenly_divisible(number, dividend):\n",
    "    \"\"\"\n",
    "    Finds if a number is even\n",
    "    Parameters:\n",
    "        number (int)\n",
    "        dividend (int)\n",
    "    Returns:\n",
    "        answer (bool)\n",
    "    \"\"\"\n",
    "    \n",
    "    # Generally you want to set your return variable to an initial value\n",
    "    answer = ((number % dividend) == 0)\n",
    "    \n",
    "    # Don't forget to return a value!\n",
    "    return answer\n",
    "\n",
    "\n",
    "# Write test cases for your function. Generally you want at least one that is True and one that is False\n",
    "assert is_evenly_divisible(9, 3) == True\n",
    "assert is_evenly_divisible(3, 2) == False\n",
    "assert is_evenly_divisible(12, 6) == True\n",
    "assert is_evenly_divisible(15, 7) == False\n",
    "\n",
    "is_evenly_divisible(15, 7)"
   ]
  },
  {
   "cell_type": "code",
   "execution_count": 16,
   "metadata": {},
   "outputs": [
    {
     "data": {
      "text/plain": [
       "False"
      ]
     },
     "execution_count": 16,
     "metadata": {},
     "output_type": "execute_result"
    }
   ],
   "source": [
    "# Recreate is_even with  is_evenly_divisible\n",
    "\n",
    "def is_even(number):\n",
    "    return is_evenly_divisible(number, 2)\n",
    "\n",
    "is_even(3)"
   ]
  },
  {
   "cell_type": "code",
   "execution_count": null,
   "metadata": {},
   "outputs": [],
   "source": [
    "\"\"\"\n",
    "year = input('Enter a year')\n",
    "\n",
    "if :\n",
    "    print('That is not a year')\n",
    "    \n",
    "else:\n",
    "    is_leap_year = test_is_leap(int(year))\n",
    "    if is_leap_year:\n",
    "        # Tell the user that the year they entered is a leap year. Use the provided year in the print() function\n",
    "        # Note -- You have to convert back to a string to print\n",
    "        print()\n",
    "    else:\n",
    "        # Tell the usr they did not enter a leap year\n",
    "\"\"\""
   ]
  },
  {
   "cell_type": "markdown",
   "metadata": {},
   "source": [
    "**This problem was taken from the Hackerrank challenge [Write a function](https://www.hackerrank.com/challenges/write-a-function/problem).**\n",
    "\n",
    "**In the Gregorian calendar three criteria must be taken into account to identify leap years:**\n",
    "\n",
    "* The year can be evenly divided by 4, is a leap year, unless:\n",
    "  * The year can be evenly divided by 100, it is NOT a leap year, unless:\n",
    "    * The year is also evenly divisible by 400. Then it is a leap year.\n",
    "    \n",
    "    \n",
    "**This means that in the Gregorian calendar, the years 2000 and 2400 are leap years, while 1800 and 1900 are not.**\n",
    "\n",
    "**Complete the code below that inputs a year from the user, tests whether it's an integer. If not then tell them they did not enter a year. If it is a year, then convert the input to an integer, test whether it is a leap year, and tell the user whether it is a leap year or not**"
   ]
  },
  {
   "cell_type": "code",
   "execution_count": 14,
   "metadata": {},
   "outputs": [],
   "source": [
    "def test_is_leap(year):\n",
    "    leap = False\n",
    "    \n",
    "    # Use nested if statements here (if statements within if statements)\n",
    "    # Don't forget to use proper indentation\n",
    "    # You can use the is_evenly_divisible() function that we created above.\n",
    "    if is_evenly_divisible(year, 4):\n",
    "        \n",
    "        leap = True\n",
    "\n",
    "        if (year % 100) == 0:\n",
    "            leap = False\n",
    "            \n",
    "            if (year % 400) == 0:\n",
    "                leap = True\n",
    "            \n",
    "    return leap\n"
   ]
  },
  {
   "cell_type": "markdown",
   "metadata": {},
   "source": [
    "**The first assert statement has been written for you. Finish the next three.**"
   ]
  },
  {
   "cell_type": "code",
   "execution_count": 15,
   "metadata": {},
   "outputs": [
    {
     "data": {
      "text/plain": [
       "True"
      ]
     },
     "execution_count": 15,
     "metadata": {},
     "output_type": "execute_result"
    }
   ],
   "source": [
    "assert test_is_leap(2000) == True\n",
    "assert test_is_leap(2004) == True\n",
    "assert test_is_leap(1900) == False\n",
    "assert test_is_leap(1999) == False\n",
    "\n",
    "test_is_leap(2000) "
   ]
  },
  {
   "cell_type": "markdown",
   "metadata": {},
   "source": [
    "**Let's make the last one hard. Rewrite the test_is_leap() function so that it is only one line. Rerun your above assert statments to make sure it is correct.**"
   ]
  },
  {
   "cell_type": "code",
   "execution_count": null,
   "metadata": {},
   "outputs": [],
   "source": [
    "def test_is_leap(year):\n",
    "    return "
   ]
  }
 ],
 "metadata": {
  "kernelspec": {
   "display_name": "Python 3",
   "language": "python",
   "name": "python3"
  },
  "language_info": {
   "codemirror_mode": {
    "name": "ipython",
    "version": 3
   },
   "file_extension": ".py",
   "mimetype": "text/x-python",
   "name": "python",
   "nbconvert_exporter": "python",
   "pygments_lexer": "ipython3",
   "version": "3.6.5"
  }
 },
 "nbformat": 4,
 "nbformat_minor": 2
}
