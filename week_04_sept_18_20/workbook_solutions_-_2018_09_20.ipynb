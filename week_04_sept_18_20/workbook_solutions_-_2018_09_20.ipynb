{
 "cells": [
  {
   "cell_type": "markdown",
   "metadata": {},
   "source": [
    "# In-class workbook for September 20, 2018\n",
    "\n",
    "[![Binder](https://mybinder.org/badge.svg)](https://mybinder.org/v2/gh/enactdev/CISC_106_F18/master?filepath=week_04_sept_18_20/workbook_-_2018_09_20.ipynb)\n",
    "\n",
    "## These are similar to questions I would ask on the upcoming test\n",
    "\n",
    "## Let's start with some easy ones\n",
    "\n",
    "**Use the input() function to prompt the user for their age. Assign it to the variable ```user_age```**\n",
    "\n",
    "**Then use an ```if``` statement and the string method isnumeric() to make sure the user entered in integer. If so, convert the string input to an integer. If not then use the print() function to tell the user to go back and try again.**\n",
    "\n",
    "**Reminder: You can run any cell in a notebook in any order. Run the current cell by clicking the \"> Run\" button above, or press Shift+Enter**"
   ]
  },
  {
   "cell_type": "code",
   "execution_count": 4,
   "metadata": {},
   "outputs": [
    {
     "name": "stdout",
     "output_type": "stream",
     "text": [
      "Please state age: 19\n"
     ]
    }
   ],
   "source": [
    "user_age = input('Please state age: ')\n",
    "\n",
    "if user_age.isnumeric():\n",
    "    user_age = int(user_age)\n",
    "else:\n",
    "    print('Go back and try again.')"
   ]
  },
  {
   "cell_type": "markdown",
   "metadata": {},
   "source": [
    "**Now test the users age to see if they are old enough to vote. If they are old enough, use the input() function again to ask if they are going to vote. If they are not old enough, then tell them you hope they vote in the future once they can.**"
   ]
  },
  {
   "cell_type": "code",
   "execution_count": 6,
   "metadata": {},
   "outputs": [
    {
     "name": "stdout",
     "output_type": "stream",
     "text": [
      "I hope you will vote soon.\n",
      "Are you planniing to vote? Yes\n"
     ]
    }
   ],
   "source": [
    "if user_age >= 18:\n",
    "    print('I hope you will vote soon.')\n",
    "    input('Are you planniing to vote? ')\n",
    "else:\n",
    "    print('I hope you will vote in the future.')"
   ]
  },
  {
   "cell_type": "markdown",
   "metadata": {},
   "source": [
    "---\n",
    "\n",
    "## While loop problem\n"
   ]
  },
  {
   "cell_type": "code",
   "execution_count": 18,
   "metadata": {},
   "outputs": [
    {
     "name": "stdout",
     "output_type": "stream",
     "text": [
      "Good job, you are currently at 10 feet\n",
      "Good job, you are currently at 20 feet\n",
      "Good job, you are currently at 30 feet\n",
      "Good job, you are currently at 40 feet\n",
      "Good job, you are currently at 50 feet\n",
      "Good job, you are currently at 60 feet\n",
      "Good job, you are currently at 70 feet\n",
      "Good job, you are currently at 80 feet\n",
      "Good job, you are currently at 90 feet\n",
      "Good job, you are currently at 100 feet\n",
      "Good job, you are currently at 110 feet\n",
      "Good job, you are currently at 120 feet\n",
      "Good job, you are done!\n"
     ]
    }
   ],
   "source": [
    "# Jack and Jill are thirsty, but the water is at the top of the hill. \n",
    "# The top of the hill is 123 feet\n",
    "top_of_hill = 123\n",
    "\n",
    "# Jack and Jill are at the bottom\n",
    "height = 0\n",
    "\n",
    "# Write a while loop that increments height by one each iteration, and every \n",
    "# 10 feet it prints the message:\n",
    "# 'Good job, you are currently at ___ feet' where ___ is their current height.\n",
    "\n",
    "# Once they are at the top, print \"Good job, you are done!\"\n",
    "\n",
    "while height <= top_of_hill:\n",
    "    height = height + 1\n",
    "    if (height % 10) == 0:\n",
    "        # Print statements with commas add spaces around strings for you:\n",
    "        #print('Good job, you are currently at', height, 'feet')\n",
    "        \n",
    "        # However, when you join strings, you need to add the space yourself:\n",
    "        print('Good job, you are currently at '+ str(height)+ ' feet')\n",
    "        \n",
    "    if height == top_of_hill:\n",
    "        print(\"Good job, you are done!\")"
   ]
  },
  {
   "cell_type": "markdown",
   "metadata": {},
   "source": [
    "**Last week we wrote a function is_even() that we created in-class to test if a number is even. On Tuesday, we edited the function to be more general. The function name became 'is_evenly_divisible' and was updated to accept a second, and returns whether the first number is evenly divisible by the second number.**\n",
    "\n",
    "**Run the cell below with our new is_evenly_divisible() function so you can use it later.**"
   ]
  },
  {
   "cell_type": "code",
   "execution_count": 19,
   "metadata": {},
   "outputs": [
    {
     "data": {
      "text/plain": [
       "False"
      ]
     },
     "execution_count": 19,
     "metadata": {},
     "output_type": "execute_result"
    }
   ],
   "source": [
    "def is_evenly_divisible(number, dividend):\n",
    "    \"\"\"\n",
    "    Finds if a number is even\n",
    "    Parameters:\n",
    "        number (int)\n",
    "        dividend (int)\n",
    "    Returns:\n",
    "        answer (bool)\n",
    "    \"\"\"\n",
    "    \n",
    "    # Generally you want to set your return variable to an initial value\n",
    "    answer = ((number % dividend) == 0)\n",
    "    \n",
    "    # Don't forget to return a value!\n",
    "    return answer\n",
    "\n",
    "\n",
    "# Write test cases for your function. Generally you want at least one that is True and one that is False\n",
    "assert is_evenly_divisible(9, 3) == True\n",
    "assert is_evenly_divisible(3, 2) == False\n",
    "assert is_evenly_divisible(12, 6) == True\n",
    "assert is_evenly_divisible(15, 7) == False\n",
    "\n",
    "is_evenly_divisible(15, 7)"
   ]
  },
  {
   "cell_type": "markdown",
   "metadata": {},
   "source": [
    "**Then we re-created our is_even() function, but used the more general is_evenly_divisible(). Run the next cell too.**"
   ]
  },
  {
   "cell_type": "code",
   "execution_count": 24,
   "metadata": {},
   "outputs": [
    {
     "data": {
      "text/plain": [
       "False"
      ]
     },
     "execution_count": 24,
     "metadata": {},
     "output_type": "execute_result"
    }
   ],
   "source": [
    "# Recreate is_even with is_evenly_divisible\n",
    "\n",
    "def is_even(number):\n",
    "    return is_evenly_divisible(number, 2)\n",
    "\n",
    "is_even(3)"
   ]
  },
  {
   "cell_type": "markdown",
   "metadata": {},
   "source": [
    "**Now create a function is_odd() that also uses the is_evenly_divisible() function**"
   ]
  },
  {
   "cell_type": "code",
   "execution_count": 33,
   "metadata": {},
   "outputs": [
    {
     "data": {
      "text/plain": [
       "True"
      ]
     },
     "execution_count": 33,
     "metadata": {},
     "output_type": "execute_result"
    }
   ],
   "source": [
    "# Create is_odd() function below\n",
    "def is_odd(number):\n",
    "    return not is_evenly_divisible(number, 2)\n",
    "\n",
    "is_odd(3)"
   ]
  },
  {
   "cell_type": "markdown",
   "metadata": {},
   "source": [
    "**Other good solutions from the class:**"
   ]
  },
  {
   "cell_type": "code",
   "execution_count": 34,
   "metadata": {},
   "outputs": [
    {
     "data": {
      "text/plain": [
       "True"
      ]
     },
     "execution_count": 34,
     "metadata": {},
     "output_type": "execute_result"
    }
   ],
   "source": [
    "# Create is_odd() function below\n",
    "def is_odd(number):\n",
    "    return is_evenly_divisible(number-1, 2)\n",
    "\n",
    "is_odd(3)"
   ]
  },
  {
   "cell_type": "code",
   "execution_count": 35,
   "metadata": {},
   "outputs": [
    {
     "data": {
      "text/plain": [
       "True"
      ]
     },
     "execution_count": 35,
     "metadata": {},
     "output_type": "execute_result"
    }
   ],
   "source": [
    "# Create is_odd() function below\n",
    "def is_odd(number):\n",
    "    return not is_even(number)\n",
    "\n",
    "is_odd(3)"
   ]
  },
  {
   "cell_type": "markdown",
   "metadata": {},
   "source": [
    "**This problem was taken from the Hackerrank challenge [Write a function](https://www.hackerrank.com/challenges/write-a-function/problem).**\n",
    "\n",
    "**On Tuesday, we worked on this together. Then we went back and wrote the is_evenly_divisible() function, and changed the first if statement in the test_is_leap() function to call is_evenly_divisible(). Change the next two if statements to also use the is_evenly_divisible() function.**\n",
    "\n",
    "**In the Gregorian calendar three criteria must be taken into account to identify leap years:**\n",
    "\n",
    "* The year can be evenly divided by 4, is a leap year, unless:\n",
    "  * The year can be evenly divided by 100, it is NOT a leap year, unless:\n",
    "    * The year is also evenly divisible by 400. Then it is a leap year.\n",
    "    \n",
    "    \n",
    "**This means that in the Gregorian calendar, the years 2000 and 2400 are leap years, while 1800 and 1900 are not.**\n"
   ]
  },
  {
   "cell_type": "code",
   "execution_count": 36,
   "metadata": {},
   "outputs": [],
   "source": [
    "def test_is_leap(year):\n",
    "    leap = False\n",
    "    \n",
    "    # Use nested if statements here (if statements within if statements)\n",
    "    # Don't forget to use proper indentation\n",
    "    # You can use the is_evenly_divisible() function that we created above.\n",
    "    if is_evenly_divisible(year, 4):\n",
    "        \n",
    "        leap = True\n",
    "\n",
    "        if is_evenly_divisible(year, 100):\n",
    "            leap = False\n",
    "            \n",
    "            if is_evenly_divisible(year, 400):\n",
    "                leap = True\n",
    "            \n",
    "    return leap\n"
   ]
  },
  {
   "cell_type": "markdown",
   "metadata": {},
   "source": [
    "**Assert statements from class. Make sure they pass before continuing.**"
   ]
  },
  {
   "cell_type": "code",
   "execution_count": 39,
   "metadata": {},
   "outputs": [
    {
     "data": {
      "text/plain": [
       "True"
      ]
     },
     "execution_count": 39,
     "metadata": {},
     "output_type": "execute_result"
    }
   ],
   "source": [
    "assert test_is_leap(2000) == True\n",
    "assert test_is_leap(2004) == True\n",
    "assert test_is_leap(1900) == False\n",
    "assert test_is_leap(1999) == False\n",
    "\n",
    "test_is_leap(2000) "
   ]
  },
  {
   "cell_type": "markdown",
   "metadata": {},
   "source": [
    "**Complete the code below that inputs a year from the user. Test the input to ensure it's both an integer (use isnumeric() method) and is greater than 0. If it fails then tell them they did not enter a year (you can stop here). If it is a year, then convert the input to an integer, test whether it is a leap year, and tell the user whether it is a leap year or not**"
   ]
  },
  {
   "cell_type": "code",
   "execution_count": null,
   "metadata": {},
   "outputs": [],
   "source": [
    "# This code is incomplete! Complete it.\n",
    "\n",
    "year = input('Enter a year')\n",
    "\n",
    "# Write your if statement so that the shorter block is at the top\n",
    "if :\n",
    "    print('That is not a year')\n",
    "    \n",
    "else:\n",
    "    is_leap_year = test_is_leap(int(year))\n",
    "    if is_leap_year:\n",
    "        # Tell the user that they entered a leap year. Also print the year. (Example, \"2000 is a leap year\")\n",
    "        print()\n",
    "    else:\n",
    "        # Tell the user they did not enter a leap year\n"
   ]
  },
  {
   "cell_type": "markdown",
   "metadata": {},
   "source": [
    "**Let's make the last one hard. Rewrite the test_is_leap() function so that it is only one line. Rerun the above assert statments to make sure it is correct.** "
   ]
  },
  {
   "cell_type": "code",
   "execution_count": 38,
   "metadata": {},
   "outputs": [],
   "source": [
    "\"\"\"\n",
    "def test_is_leap(year):\n",
    "    leap = False\n",
    "    \n",
    "    # Use nested if statements here (if statements within if statements)\n",
    "    # Don't forget to use proper indentation\n",
    "    # You can use the is_evenly_divisible() function that we created above.\n",
    "    if is_evenly_divisible(year, 4):\n",
    "        \n",
    "        leap = True\n",
    "\n",
    "        if is_evenly_divisible(year, 100):\n",
    "            leap = False\n",
    "            \n",
    "            if is_evenly_divisible(year, 400):\n",
    "                leap = True\n",
    "            \n",
    "    return leap\n",
    "\n",
    "\"\"\"\n",
    "\n",
    "def test_is_leap(year):\n",
    "    return (is_evenly_divisible(year, 4) and not is_evenly_divisible(year, 100)) or is_evenly_divisible(year, 400)"
   ]
  },
  {
   "cell_type": "markdown",
   "metadata": {},
   "source": [
    "**Try on your own before reading below.**\n",
    "\n",
    "**Need help? When I wrote it I used one ```and``` , one  ```or```, and one ```not``` statment. If your solution uses different ones please share.**"
   ]
  },
  {
   "cell_type": "code",
   "execution_count": null,
   "metadata": {},
   "outputs": [],
   "source": []
  }
 ],
 "metadata": {
  "kernelspec": {
   "display_name": "Python 3",
   "language": "python",
   "name": "python3"
  },
  "language_info": {
   "codemirror_mode": {
    "name": "ipython",
    "version": 3
   },
   "file_extension": ".py",
   "mimetype": "text/x-python",
   "name": "python",
   "nbconvert_exporter": "python",
   "pygments_lexer": "ipython3",
   "version": "3.6.6"
  }
 },
 "nbformat": 4,
 "nbformat_minor": 2
}
